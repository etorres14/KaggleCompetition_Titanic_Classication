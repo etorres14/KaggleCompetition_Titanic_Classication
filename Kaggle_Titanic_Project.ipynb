{
  "cells": [
    {
      "cell_type": "markdown",
      "metadata": {
        "id": "view-in-github",
        "colab_type": "text"
      },
      "source": [
        "<a href=\"https://colab.research.google.com/github/etorres14/KaggleCompetition_Titanic_Classication/blob/main/Kaggle_Titanic_Project.ipynb\" target=\"_parent\"><img src=\"https://colab.research.google.com/assets/colab-badge.svg\" alt=\"Open In Colab\"/></a>"
      ]
    },
    {
      "cell_type": "markdown",
      "id": "7d5da293",
      "metadata": {
        "id": "7d5da293"
      },
      "source": [
        "# Kaggle Titanic Project\n",
        "\n",
        "### Edward Torres"
      ]
    },
    {
      "cell_type": "markdown",
      "id": "7013ee4a",
      "metadata": {
        "id": "7013ee4a"
      },
      "source": [
        "## Objective\n",
        "---\n",
        "\n",
        "You'll be competing in Kaggle's [Titanic - Machine Learning from Disaster](https://www.kaggle.com/c/titanic) Competition. You can download the datasets, and read the requirements of the competition using the associated link.<br>\n",
        "\n"
      ]
    },
    {
      "cell_type": "markdown",
      "id": "bff67582",
      "metadata": {
        "id": "bff67582"
      },
      "source": [
        "## Importing Dependencies / Data\n"
      ]
    },
    {
      "cell_type": "code",
      "source": [
        "import pandas as pd\n",
        "import numpy as np\n",
        "import matplotlib.pyplot as plt\n",
        "import seaborn as sns"
      ],
      "metadata": {
        "id": "hTrsPR8GY9kM"
      },
      "id": "hTrsPR8GY9kM",
      "execution_count": null,
      "outputs": []
    },
    {
      "cell_type": "code",
      "source": [
        "titanic_df = pd.read_csv(\"/content/train.csv\")\n",
        "test = pd.read_csv(\"/content/test.csv\")"
      ],
      "metadata": {
        "id": "vW4Dobz_ZAoZ"
      },
      "id": "vW4Dobz_ZAoZ",
      "execution_count": null,
      "outputs": []
    },
    {
      "cell_type": "code",
      "source": [
        "titanic_df.head(3)"
      ],
      "metadata": {
        "id": "GUn1spKNZUTn",
        "outputId": "6a7b3ac1-372b-4dd6-dac8-17473e318882",
        "colab": {
          "base_uri": "https://localhost:8080/",
          "height": 220
        }
      },
      "id": "GUn1spKNZUTn",
      "execution_count": null,
      "outputs": [
        {
          "output_type": "execute_result",
          "data": {
            "text/plain": [
              "   PassengerId  Survived  Pclass  \\\n",
              "0            1         0       3   \n",
              "1            2         1       1   \n",
              "2            3         1       3   \n",
              "\n",
              "                                                Name     Sex   Age  SibSp  \\\n",
              "0                            Braund, Mr. Owen Harris    male  22.0      1   \n",
              "1  Cumings, Mrs. John Bradley (Florence Briggs Th...  female  38.0      1   \n",
              "2                             Heikkinen, Miss. Laina  female  26.0      0   \n",
              "\n",
              "   Parch            Ticket     Fare Cabin Embarked  \n",
              "0      0         A/5 21171   7.2500   NaN        S  \n",
              "1      0          PC 17599  71.2833   C85        C  \n",
              "2      0  STON/O2. 3101282   7.9250   NaN        S  "
            ],
            "text/html": [
              "\n",
              "  <div id=\"df-02c1952a-bd5f-44ea-98f4-e98c0a3bae95\">\n",
              "    <div class=\"colab-df-container\">\n",
              "      <div>\n",
              "<style scoped>\n",
              "    .dataframe tbody tr th:only-of-type {\n",
              "        vertical-align: middle;\n",
              "    }\n",
              "\n",
              "    .dataframe tbody tr th {\n",
              "        vertical-align: top;\n",
              "    }\n",
              "\n",
              "    .dataframe thead th {\n",
              "        text-align: right;\n",
              "    }\n",
              "</style>\n",
              "<table border=\"1\" class=\"dataframe\">\n",
              "  <thead>\n",
              "    <tr style=\"text-align: right;\">\n",
              "      <th></th>\n",
              "      <th>PassengerId</th>\n",
              "      <th>Survived</th>\n",
              "      <th>Pclass</th>\n",
              "      <th>Name</th>\n",
              "      <th>Sex</th>\n",
              "      <th>Age</th>\n",
              "      <th>SibSp</th>\n",
              "      <th>Parch</th>\n",
              "      <th>Ticket</th>\n",
              "      <th>Fare</th>\n",
              "      <th>Cabin</th>\n",
              "      <th>Embarked</th>\n",
              "    </tr>\n",
              "  </thead>\n",
              "  <tbody>\n",
              "    <tr>\n",
              "      <th>0</th>\n",
              "      <td>1</td>\n",
              "      <td>0</td>\n",
              "      <td>3</td>\n",
              "      <td>Braund, Mr. Owen Harris</td>\n",
              "      <td>male</td>\n",
              "      <td>22.0</td>\n",
              "      <td>1</td>\n",
              "      <td>0</td>\n",
              "      <td>A/5 21171</td>\n",
              "      <td>7.2500</td>\n",
              "      <td>NaN</td>\n",
              "      <td>S</td>\n",
              "    </tr>\n",
              "    <tr>\n",
              "      <th>1</th>\n",
              "      <td>2</td>\n",
              "      <td>1</td>\n",
              "      <td>1</td>\n",
              "      <td>Cumings, Mrs. John Bradley (Florence Briggs Th...</td>\n",
              "      <td>female</td>\n",
              "      <td>38.0</td>\n",
              "      <td>1</td>\n",
              "      <td>0</td>\n",
              "      <td>PC 17599</td>\n",
              "      <td>71.2833</td>\n",
              "      <td>C85</td>\n",
              "      <td>C</td>\n",
              "    </tr>\n",
              "    <tr>\n",
              "      <th>2</th>\n",
              "      <td>3</td>\n",
              "      <td>1</td>\n",
              "      <td>3</td>\n",
              "      <td>Heikkinen, Miss. Laina</td>\n",
              "      <td>female</td>\n",
              "      <td>26.0</td>\n",
              "      <td>0</td>\n",
              "      <td>0</td>\n",
              "      <td>STON/O2. 3101282</td>\n",
              "      <td>7.9250</td>\n",
              "      <td>NaN</td>\n",
              "      <td>S</td>\n",
              "    </tr>\n",
              "  </tbody>\n",
              "</table>\n",
              "</div>\n",
              "      <button class=\"colab-df-convert\" onclick=\"convertToInteractive('df-02c1952a-bd5f-44ea-98f4-e98c0a3bae95')\"\n",
              "              title=\"Convert this dataframe to an interactive table.\"\n",
              "              style=\"display:none;\">\n",
              "        \n",
              "  <svg xmlns=\"http://www.w3.org/2000/svg\" height=\"24px\"viewBox=\"0 0 24 24\"\n",
              "       width=\"24px\">\n",
              "    <path d=\"M0 0h24v24H0V0z\" fill=\"none\"/>\n",
              "    <path d=\"M18.56 5.44l.94 2.06.94-2.06 2.06-.94-2.06-.94-.94-2.06-.94 2.06-2.06.94zm-11 1L8.5 8.5l.94-2.06 2.06-.94-2.06-.94L8.5 2.5l-.94 2.06-2.06.94zm10 10l.94 2.06.94-2.06 2.06-.94-2.06-.94-.94-2.06-.94 2.06-2.06.94z\"/><path d=\"M17.41 7.96l-1.37-1.37c-.4-.4-.92-.59-1.43-.59-.52 0-1.04.2-1.43.59L10.3 9.45l-7.72 7.72c-.78.78-.78 2.05 0 2.83L4 21.41c.39.39.9.59 1.41.59.51 0 1.02-.2 1.41-.59l7.78-7.78 2.81-2.81c.8-.78.8-2.07 0-2.86zM5.41 20L4 18.59l7.72-7.72 1.47 1.35L5.41 20z\"/>\n",
              "  </svg>\n",
              "      </button>\n",
              "      \n",
              "  <style>\n",
              "    .colab-df-container {\n",
              "      display:flex;\n",
              "      flex-wrap:wrap;\n",
              "      gap: 12px;\n",
              "    }\n",
              "\n",
              "    .colab-df-convert {\n",
              "      background-color: #E8F0FE;\n",
              "      border: none;\n",
              "      border-radius: 50%;\n",
              "      cursor: pointer;\n",
              "      display: none;\n",
              "      fill: #1967D2;\n",
              "      height: 32px;\n",
              "      padding: 0 0 0 0;\n",
              "      width: 32px;\n",
              "    }\n",
              "\n",
              "    .colab-df-convert:hover {\n",
              "      background-color: #E2EBFA;\n",
              "      box-shadow: 0px 1px 2px rgba(60, 64, 67, 0.3), 0px 1px 3px 1px rgba(60, 64, 67, 0.15);\n",
              "      fill: #174EA6;\n",
              "    }\n",
              "\n",
              "    [theme=dark] .colab-df-convert {\n",
              "      background-color: #3B4455;\n",
              "      fill: #D2E3FC;\n",
              "    }\n",
              "\n",
              "    [theme=dark] .colab-df-convert:hover {\n",
              "      background-color: #434B5C;\n",
              "      box-shadow: 0px 1px 3px 1px rgba(0, 0, 0, 0.15);\n",
              "      filter: drop-shadow(0px 1px 2px rgba(0, 0, 0, 0.3));\n",
              "      fill: #FFFFFF;\n",
              "    }\n",
              "  </style>\n",
              "\n",
              "      <script>\n",
              "        const buttonEl =\n",
              "          document.querySelector('#df-02c1952a-bd5f-44ea-98f4-e98c0a3bae95 button.colab-df-convert');\n",
              "        buttonEl.style.display =\n",
              "          google.colab.kernel.accessAllowed ? 'block' : 'none';\n",
              "\n",
              "        async function convertToInteractive(key) {\n",
              "          const element = document.querySelector('#df-02c1952a-bd5f-44ea-98f4-e98c0a3bae95');\n",
              "          const dataTable =\n",
              "            await google.colab.kernel.invokeFunction('convertToInteractive',\n",
              "                                                     [key], {});\n",
              "          if (!dataTable) return;\n",
              "\n",
              "          const docLinkHtml = 'Like what you see? Visit the ' +\n",
              "            '<a target=\"_blank\" href=https://colab.research.google.com/notebooks/data_table.ipynb>data table notebook</a>'\n",
              "            + ' to learn more about interactive tables.';\n",
              "          element.innerHTML = '';\n",
              "          dataTable['output_type'] = 'display_data';\n",
              "          await google.colab.output.renderOutput(dataTable, element);\n",
              "          const docLink = document.createElement('div');\n",
              "          docLink.innerHTML = docLinkHtml;\n",
              "          element.appendChild(docLink);\n",
              "        }\n",
              "      </script>\n",
              "    </div>\n",
              "  </div>\n",
              "  "
            ]
          },
          "metadata": {},
          "execution_count": 29
        }
      ]
    },
    {
      "cell_type": "code",
      "source": [
        "titanic_df.info()"
      ],
      "metadata": {
        "id": "D35lm5HRZqJt",
        "outputId": "29a077aa-4f3d-4f58-9f0b-846e5b07e9dc",
        "colab": {
          "base_uri": "https://localhost:8080/"
        }
      },
      "id": "D35lm5HRZqJt",
      "execution_count": null,
      "outputs": [
        {
          "output_type": "stream",
          "name": "stdout",
          "text": [
            "<class 'pandas.core.frame.DataFrame'>\n",
            "RangeIndex: 891 entries, 0 to 890\n",
            "Data columns (total 12 columns):\n",
            " #   Column       Non-Null Count  Dtype  \n",
            "---  ------       --------------  -----  \n",
            " 0   PassengerId  891 non-null    int64  \n",
            " 1   Survived     891 non-null    int64  \n",
            " 2   Pclass       891 non-null    int64  \n",
            " 3   Name         891 non-null    object \n",
            " 4   Sex          891 non-null    object \n",
            " 5   Age          714 non-null    float64\n",
            " 6   SibSp        891 non-null    int64  \n",
            " 7   Parch        891 non-null    int64  \n",
            " 8   Ticket       891 non-null    object \n",
            " 9   Fare         891 non-null    float64\n",
            " 10  Cabin        204 non-null    object \n",
            " 11  Embarked     889 non-null    object \n",
            "dtypes: float64(2), int64(5), object(5)\n",
            "memory usage: 83.7+ KB\n"
          ]
        }
      ]
    },
    {
      "cell_type": "code",
      "source": [
        "pd.DataFrame(titanic_df.isnull().sum().sort_values(ascending = False))"
      ],
      "metadata": {
        "colab": {
          "base_uri": "https://localhost:8080/",
          "height": 421
        },
        "id": "2byvTdlRdxyo",
        "outputId": "12fc47ac-3de1-49e9-e4d7-bafa784cb334"
      },
      "id": "2byvTdlRdxyo",
      "execution_count": null,
      "outputs": [
        {
          "output_type": "execute_result",
          "data": {
            "text/plain": [
              "               0\n",
              "Cabin        687\n",
              "Age          177\n",
              "Embarked       2\n",
              "PassengerId    0\n",
              "Survived       0\n",
              "Pclass         0\n",
              "Name           0\n",
              "Sex            0\n",
              "SibSp          0\n",
              "Parch          0\n",
              "Ticket         0\n",
              "Fare           0"
            ],
            "text/html": [
              "\n",
              "  <div id=\"df-a4e75861-bba5-4222-978e-83f32606b98f\">\n",
              "    <div class=\"colab-df-container\">\n",
              "      <div>\n",
              "<style scoped>\n",
              "    .dataframe tbody tr th:only-of-type {\n",
              "        vertical-align: middle;\n",
              "    }\n",
              "\n",
              "    .dataframe tbody tr th {\n",
              "        vertical-align: top;\n",
              "    }\n",
              "\n",
              "    .dataframe thead th {\n",
              "        text-align: right;\n",
              "    }\n",
              "</style>\n",
              "<table border=\"1\" class=\"dataframe\">\n",
              "  <thead>\n",
              "    <tr style=\"text-align: right;\">\n",
              "      <th></th>\n",
              "      <th>0</th>\n",
              "    </tr>\n",
              "  </thead>\n",
              "  <tbody>\n",
              "    <tr>\n",
              "      <th>Cabin</th>\n",
              "      <td>687</td>\n",
              "    </tr>\n",
              "    <tr>\n",
              "      <th>Age</th>\n",
              "      <td>177</td>\n",
              "    </tr>\n",
              "    <tr>\n",
              "      <th>Embarked</th>\n",
              "      <td>2</td>\n",
              "    </tr>\n",
              "    <tr>\n",
              "      <th>PassengerId</th>\n",
              "      <td>0</td>\n",
              "    </tr>\n",
              "    <tr>\n",
              "      <th>Survived</th>\n",
              "      <td>0</td>\n",
              "    </tr>\n",
              "    <tr>\n",
              "      <th>Pclass</th>\n",
              "      <td>0</td>\n",
              "    </tr>\n",
              "    <tr>\n",
              "      <th>Name</th>\n",
              "      <td>0</td>\n",
              "    </tr>\n",
              "    <tr>\n",
              "      <th>Sex</th>\n",
              "      <td>0</td>\n",
              "    </tr>\n",
              "    <tr>\n",
              "      <th>SibSp</th>\n",
              "      <td>0</td>\n",
              "    </tr>\n",
              "    <tr>\n",
              "      <th>Parch</th>\n",
              "      <td>0</td>\n",
              "    </tr>\n",
              "    <tr>\n",
              "      <th>Ticket</th>\n",
              "      <td>0</td>\n",
              "    </tr>\n",
              "    <tr>\n",
              "      <th>Fare</th>\n",
              "      <td>0</td>\n",
              "    </tr>\n",
              "  </tbody>\n",
              "</table>\n",
              "</div>\n",
              "      <button class=\"colab-df-convert\" onclick=\"convertToInteractive('df-a4e75861-bba5-4222-978e-83f32606b98f')\"\n",
              "              title=\"Convert this dataframe to an interactive table.\"\n",
              "              style=\"display:none;\">\n",
              "        \n",
              "  <svg xmlns=\"http://www.w3.org/2000/svg\" height=\"24px\"viewBox=\"0 0 24 24\"\n",
              "       width=\"24px\">\n",
              "    <path d=\"M0 0h24v24H0V0z\" fill=\"none\"/>\n",
              "    <path d=\"M18.56 5.44l.94 2.06.94-2.06 2.06-.94-2.06-.94-.94-2.06-.94 2.06-2.06.94zm-11 1L8.5 8.5l.94-2.06 2.06-.94-2.06-.94L8.5 2.5l-.94 2.06-2.06.94zm10 10l.94 2.06.94-2.06 2.06-.94-2.06-.94-.94-2.06-.94 2.06-2.06.94z\"/><path d=\"M17.41 7.96l-1.37-1.37c-.4-.4-.92-.59-1.43-.59-.52 0-1.04.2-1.43.59L10.3 9.45l-7.72 7.72c-.78.78-.78 2.05 0 2.83L4 21.41c.39.39.9.59 1.41.59.51 0 1.02-.2 1.41-.59l7.78-7.78 2.81-2.81c.8-.78.8-2.07 0-2.86zM5.41 20L4 18.59l7.72-7.72 1.47 1.35L5.41 20z\"/>\n",
              "  </svg>\n",
              "      </button>\n",
              "      \n",
              "  <style>\n",
              "    .colab-df-container {\n",
              "      display:flex;\n",
              "      flex-wrap:wrap;\n",
              "      gap: 12px;\n",
              "    }\n",
              "\n",
              "    .colab-df-convert {\n",
              "      background-color: #E8F0FE;\n",
              "      border: none;\n",
              "      border-radius: 50%;\n",
              "      cursor: pointer;\n",
              "      display: none;\n",
              "      fill: #1967D2;\n",
              "      height: 32px;\n",
              "      padding: 0 0 0 0;\n",
              "      width: 32px;\n",
              "    }\n",
              "\n",
              "    .colab-df-convert:hover {\n",
              "      background-color: #E2EBFA;\n",
              "      box-shadow: 0px 1px 2px rgba(60, 64, 67, 0.3), 0px 1px 3px 1px rgba(60, 64, 67, 0.15);\n",
              "      fill: #174EA6;\n",
              "    }\n",
              "\n",
              "    [theme=dark] .colab-df-convert {\n",
              "      background-color: #3B4455;\n",
              "      fill: #D2E3FC;\n",
              "    }\n",
              "\n",
              "    [theme=dark] .colab-df-convert:hover {\n",
              "      background-color: #434B5C;\n",
              "      box-shadow: 0px 1px 3px 1px rgba(0, 0, 0, 0.15);\n",
              "      filter: drop-shadow(0px 1px 2px rgba(0, 0, 0, 0.3));\n",
              "      fill: #FFFFFF;\n",
              "    }\n",
              "  </style>\n",
              "\n",
              "      <script>\n",
              "        const buttonEl =\n",
              "          document.querySelector('#df-a4e75861-bba5-4222-978e-83f32606b98f button.colab-df-convert');\n",
              "        buttonEl.style.display =\n",
              "          google.colab.kernel.accessAllowed ? 'block' : 'none';\n",
              "\n",
              "        async function convertToInteractive(key) {\n",
              "          const element = document.querySelector('#df-a4e75861-bba5-4222-978e-83f32606b98f');\n",
              "          const dataTable =\n",
              "            await google.colab.kernel.invokeFunction('convertToInteractive',\n",
              "                                                     [key], {});\n",
              "          if (!dataTable) return;\n",
              "\n",
              "          const docLinkHtml = 'Like what you see? Visit the ' +\n",
              "            '<a target=\"_blank\" href=https://colab.research.google.com/notebooks/data_table.ipynb>data table notebook</a>'\n",
              "            + ' to learn more about interactive tables.';\n",
              "          element.innerHTML = '';\n",
              "          dataTable['output_type'] = 'display_data';\n",
              "          await google.colab.output.renderOutput(dataTable, element);\n",
              "          const docLink = document.createElement('div');\n",
              "          docLink.innerHTML = docLinkHtml;\n",
              "          element.appendChild(docLink);\n",
              "        }\n",
              "      </script>\n",
              "    </div>\n",
              "  </div>\n",
              "  "
            ]
          },
          "metadata": {},
          "execution_count": 31
        }
      ]
    },
    {
      "cell_type": "code",
      "source": [
        "pd.DataFrame(titanic_df.isnull().sum().sort_values(ascending = False)/titanic_df.shape[0])"
      ],
      "metadata": {
        "id": "uNK9PSonZ1JY",
        "outputId": "b7b35262-1b8d-41e5-f986-1f50e729c6fb",
        "colab": {
          "base_uri": "https://localhost:8080/",
          "height": 421
        }
      },
      "id": "uNK9PSonZ1JY",
      "execution_count": null,
      "outputs": [
        {
          "output_type": "execute_result",
          "data": {
            "text/plain": [
              "                    0\n",
              "Cabin        0.771044\n",
              "Age          0.198653\n",
              "Embarked     0.002245\n",
              "PassengerId  0.000000\n",
              "Survived     0.000000\n",
              "Pclass       0.000000\n",
              "Name         0.000000\n",
              "Sex          0.000000\n",
              "SibSp        0.000000\n",
              "Parch        0.000000\n",
              "Ticket       0.000000\n",
              "Fare         0.000000"
            ],
            "text/html": [
              "\n",
              "  <div id=\"df-00ee7b7e-3acc-424b-a9c6-a1d274c6cc8d\">\n",
              "    <div class=\"colab-df-container\">\n",
              "      <div>\n",
              "<style scoped>\n",
              "    .dataframe tbody tr th:only-of-type {\n",
              "        vertical-align: middle;\n",
              "    }\n",
              "\n",
              "    .dataframe tbody tr th {\n",
              "        vertical-align: top;\n",
              "    }\n",
              "\n",
              "    .dataframe thead th {\n",
              "        text-align: right;\n",
              "    }\n",
              "</style>\n",
              "<table border=\"1\" class=\"dataframe\">\n",
              "  <thead>\n",
              "    <tr style=\"text-align: right;\">\n",
              "      <th></th>\n",
              "      <th>0</th>\n",
              "    </tr>\n",
              "  </thead>\n",
              "  <tbody>\n",
              "    <tr>\n",
              "      <th>Cabin</th>\n",
              "      <td>0.771044</td>\n",
              "    </tr>\n",
              "    <tr>\n",
              "      <th>Age</th>\n",
              "      <td>0.198653</td>\n",
              "    </tr>\n",
              "    <tr>\n",
              "      <th>Embarked</th>\n",
              "      <td>0.002245</td>\n",
              "    </tr>\n",
              "    <tr>\n",
              "      <th>PassengerId</th>\n",
              "      <td>0.000000</td>\n",
              "    </tr>\n",
              "    <tr>\n",
              "      <th>Survived</th>\n",
              "      <td>0.000000</td>\n",
              "    </tr>\n",
              "    <tr>\n",
              "      <th>Pclass</th>\n",
              "      <td>0.000000</td>\n",
              "    </tr>\n",
              "    <tr>\n",
              "      <th>Name</th>\n",
              "      <td>0.000000</td>\n",
              "    </tr>\n",
              "    <tr>\n",
              "      <th>Sex</th>\n",
              "      <td>0.000000</td>\n",
              "    </tr>\n",
              "    <tr>\n",
              "      <th>SibSp</th>\n",
              "      <td>0.000000</td>\n",
              "    </tr>\n",
              "    <tr>\n",
              "      <th>Parch</th>\n",
              "      <td>0.000000</td>\n",
              "    </tr>\n",
              "    <tr>\n",
              "      <th>Ticket</th>\n",
              "      <td>0.000000</td>\n",
              "    </tr>\n",
              "    <tr>\n",
              "      <th>Fare</th>\n",
              "      <td>0.000000</td>\n",
              "    </tr>\n",
              "  </tbody>\n",
              "</table>\n",
              "</div>\n",
              "      <button class=\"colab-df-convert\" onclick=\"convertToInteractive('df-00ee7b7e-3acc-424b-a9c6-a1d274c6cc8d')\"\n",
              "              title=\"Convert this dataframe to an interactive table.\"\n",
              "              style=\"display:none;\">\n",
              "        \n",
              "  <svg xmlns=\"http://www.w3.org/2000/svg\" height=\"24px\"viewBox=\"0 0 24 24\"\n",
              "       width=\"24px\">\n",
              "    <path d=\"M0 0h24v24H0V0z\" fill=\"none\"/>\n",
              "    <path d=\"M18.56 5.44l.94 2.06.94-2.06 2.06-.94-2.06-.94-.94-2.06-.94 2.06-2.06.94zm-11 1L8.5 8.5l.94-2.06 2.06-.94-2.06-.94L8.5 2.5l-.94 2.06-2.06.94zm10 10l.94 2.06.94-2.06 2.06-.94-2.06-.94-.94-2.06-.94 2.06-2.06.94z\"/><path d=\"M17.41 7.96l-1.37-1.37c-.4-.4-.92-.59-1.43-.59-.52 0-1.04.2-1.43.59L10.3 9.45l-7.72 7.72c-.78.78-.78 2.05 0 2.83L4 21.41c.39.39.9.59 1.41.59.51 0 1.02-.2 1.41-.59l7.78-7.78 2.81-2.81c.8-.78.8-2.07 0-2.86zM5.41 20L4 18.59l7.72-7.72 1.47 1.35L5.41 20z\"/>\n",
              "  </svg>\n",
              "      </button>\n",
              "      \n",
              "  <style>\n",
              "    .colab-df-container {\n",
              "      display:flex;\n",
              "      flex-wrap:wrap;\n",
              "      gap: 12px;\n",
              "    }\n",
              "\n",
              "    .colab-df-convert {\n",
              "      background-color: #E8F0FE;\n",
              "      border: none;\n",
              "      border-radius: 50%;\n",
              "      cursor: pointer;\n",
              "      display: none;\n",
              "      fill: #1967D2;\n",
              "      height: 32px;\n",
              "      padding: 0 0 0 0;\n",
              "      width: 32px;\n",
              "    }\n",
              "\n",
              "    .colab-df-convert:hover {\n",
              "      background-color: #E2EBFA;\n",
              "      box-shadow: 0px 1px 2px rgba(60, 64, 67, 0.3), 0px 1px 3px 1px rgba(60, 64, 67, 0.15);\n",
              "      fill: #174EA6;\n",
              "    }\n",
              "\n",
              "    [theme=dark] .colab-df-convert {\n",
              "      background-color: #3B4455;\n",
              "      fill: #D2E3FC;\n",
              "    }\n",
              "\n",
              "    [theme=dark] .colab-df-convert:hover {\n",
              "      background-color: #434B5C;\n",
              "      box-shadow: 0px 1px 3px 1px rgba(0, 0, 0, 0.15);\n",
              "      filter: drop-shadow(0px 1px 2px rgba(0, 0, 0, 0.3));\n",
              "      fill: #FFFFFF;\n",
              "    }\n",
              "  </style>\n",
              "\n",
              "      <script>\n",
              "        const buttonEl =\n",
              "          document.querySelector('#df-00ee7b7e-3acc-424b-a9c6-a1d274c6cc8d button.colab-df-convert');\n",
              "        buttonEl.style.display =\n",
              "          google.colab.kernel.accessAllowed ? 'block' : 'none';\n",
              "\n",
              "        async function convertToInteractive(key) {\n",
              "          const element = document.querySelector('#df-00ee7b7e-3acc-424b-a9c6-a1d274c6cc8d');\n",
              "          const dataTable =\n",
              "            await google.colab.kernel.invokeFunction('convertToInteractive',\n",
              "                                                     [key], {});\n",
              "          if (!dataTable) return;\n",
              "\n",
              "          const docLinkHtml = 'Like what you see? Visit the ' +\n",
              "            '<a target=\"_blank\" href=https://colab.research.google.com/notebooks/data_table.ipynb>data table notebook</a>'\n",
              "            + ' to learn more about interactive tables.';\n",
              "          element.innerHTML = '';\n",
              "          dataTable['output_type'] = 'display_data';\n",
              "          await google.colab.output.renderOutput(dataTable, element);\n",
              "          const docLink = document.createElement('div');\n",
              "          docLink.innerHTML = docLinkHtml;\n",
              "          element.appendChild(docLink);\n",
              "        }\n",
              "      </script>\n",
              "    </div>\n",
              "  </div>\n",
              "  "
            ]
          },
          "metadata": {},
          "execution_count": 32
        }
      ]
    },
    {
      "cell_type": "code",
      "source": [
        "test.isnull().sum()"
      ],
      "metadata": {
        "colab": {
          "base_uri": "https://localhost:8080/"
        },
        "id": "Hse4lrq-PJxB",
        "outputId": "970b3bd3-ff4f-4aa6-c46a-593485e99f51"
      },
      "id": "Hse4lrq-PJxB",
      "execution_count": null,
      "outputs": [
        {
          "output_type": "execute_result",
          "data": {
            "text/plain": [
              "PassengerId      0\n",
              "Pclass           0\n",
              "Name             0\n",
              "Sex              0\n",
              "Age             86\n",
              "SibSp            0\n",
              "Parch            0\n",
              "Ticket           0\n",
              "Fare             1\n",
              "Cabin          327\n",
              "Embarked         0\n",
              "dtype: int64"
            ]
          },
          "metadata": {},
          "execution_count": 33
        }
      ]
    },
    {
      "cell_type": "markdown",
      "source": [
        "## Initial Data Cleaning: Dealing with missing Values"
      ],
      "metadata": {
        "id": "gNXa22VEH5N9"
      },
      "id": "gNXa22VEH5N9"
    },
    {
      "cell_type": "markdown",
      "source": [
        "**Cabin**"
      ],
      "metadata": {
        "id": "5l_Yd7B2hDzZ"
      },
      "id": "5l_Yd7B2hDzZ"
    },
    {
      "cell_type": "code",
      "source": [
        "# with 78% of the data missing from the column, I decided drop the Cabin column.\n",
        "\n",
        "titanic_df = titanic_df.drop([\"Cabin\"], axis = 1)\n",
        "test = test.drop([\"Cabin\"], axis = 1)"
      ],
      "metadata": {
        "id": "Ymkf30nVVEko"
      },
      "id": "Ymkf30nVVEko",
      "execution_count": null,
      "outputs": []
    },
    {
      "cell_type": "markdown",
      "source": [
        "**Embarked**"
      ],
      "metadata": {
        "id": "fDzDCQxVhLwp"
      },
      "id": "fDzDCQxVhLwp"
    },
    {
      "cell_type": "code",
      "source": [
        "# check the two rows of data where Embarked is empty\n",
        "\n",
        "titanic_df[titanic_df.Embarked.isnull()==True]"
      ],
      "metadata": {
        "colab": {
          "base_uri": "https://localhost:8080/",
          "height": 155
        },
        "id": "lDmEP3zsw02K",
        "outputId": "3511a2b0-e1f0-4379-9d30-c4660a41c4b4"
      },
      "id": "lDmEP3zsw02K",
      "execution_count": null,
      "outputs": [
        {
          "output_type": "execute_result",
          "data": {
            "text/plain": [
              "     PassengerId  Survived  Pclass                                       Name  \\\n",
              "61            62         1       1                        Icard, Miss. Amelie   \n",
              "829          830         1       1  Stone, Mrs. George Nelson (Martha Evelyn)   \n",
              "\n",
              "        Sex   Age  SibSp  Parch  Ticket  Fare Embarked  \n",
              "61   female  38.0      0      0  113572  80.0      NaN  \n",
              "829  female  62.0      0      0  113572  80.0      NaN  "
            ],
            "text/html": [
              "\n",
              "  <div id=\"df-44573a8a-fb8f-442f-8a08-fd9106c4b97c\">\n",
              "    <div class=\"colab-df-container\">\n",
              "      <div>\n",
              "<style scoped>\n",
              "    .dataframe tbody tr th:only-of-type {\n",
              "        vertical-align: middle;\n",
              "    }\n",
              "\n",
              "    .dataframe tbody tr th {\n",
              "        vertical-align: top;\n",
              "    }\n",
              "\n",
              "    .dataframe thead th {\n",
              "        text-align: right;\n",
              "    }\n",
              "</style>\n",
              "<table border=\"1\" class=\"dataframe\">\n",
              "  <thead>\n",
              "    <tr style=\"text-align: right;\">\n",
              "      <th></th>\n",
              "      <th>PassengerId</th>\n",
              "      <th>Survived</th>\n",
              "      <th>Pclass</th>\n",
              "      <th>Name</th>\n",
              "      <th>Sex</th>\n",
              "      <th>Age</th>\n",
              "      <th>SibSp</th>\n",
              "      <th>Parch</th>\n",
              "      <th>Ticket</th>\n",
              "      <th>Fare</th>\n",
              "      <th>Embarked</th>\n",
              "    </tr>\n",
              "  </thead>\n",
              "  <tbody>\n",
              "    <tr>\n",
              "      <th>61</th>\n",
              "      <td>62</td>\n",
              "      <td>1</td>\n",
              "      <td>1</td>\n",
              "      <td>Icard, Miss. Amelie</td>\n",
              "      <td>female</td>\n",
              "      <td>38.0</td>\n",
              "      <td>0</td>\n",
              "      <td>0</td>\n",
              "      <td>113572</td>\n",
              "      <td>80.0</td>\n",
              "      <td>NaN</td>\n",
              "    </tr>\n",
              "    <tr>\n",
              "      <th>829</th>\n",
              "      <td>830</td>\n",
              "      <td>1</td>\n",
              "      <td>1</td>\n",
              "      <td>Stone, Mrs. George Nelson (Martha Evelyn)</td>\n",
              "      <td>female</td>\n",
              "      <td>62.0</td>\n",
              "      <td>0</td>\n",
              "      <td>0</td>\n",
              "      <td>113572</td>\n",
              "      <td>80.0</td>\n",
              "      <td>NaN</td>\n",
              "    </tr>\n",
              "  </tbody>\n",
              "</table>\n",
              "</div>\n",
              "      <button class=\"colab-df-convert\" onclick=\"convertToInteractive('df-44573a8a-fb8f-442f-8a08-fd9106c4b97c')\"\n",
              "              title=\"Convert this dataframe to an interactive table.\"\n",
              "              style=\"display:none;\">\n",
              "        \n",
              "  <svg xmlns=\"http://www.w3.org/2000/svg\" height=\"24px\"viewBox=\"0 0 24 24\"\n",
              "       width=\"24px\">\n",
              "    <path d=\"M0 0h24v24H0V0z\" fill=\"none\"/>\n",
              "    <path d=\"M18.56 5.44l.94 2.06.94-2.06 2.06-.94-2.06-.94-.94-2.06-.94 2.06-2.06.94zm-11 1L8.5 8.5l.94-2.06 2.06-.94-2.06-.94L8.5 2.5l-.94 2.06-2.06.94zm10 10l.94 2.06.94-2.06 2.06-.94-2.06-.94-.94-2.06-.94 2.06-2.06.94z\"/><path d=\"M17.41 7.96l-1.37-1.37c-.4-.4-.92-.59-1.43-.59-.52 0-1.04.2-1.43.59L10.3 9.45l-7.72 7.72c-.78.78-.78 2.05 0 2.83L4 21.41c.39.39.9.59 1.41.59.51 0 1.02-.2 1.41-.59l7.78-7.78 2.81-2.81c.8-.78.8-2.07 0-2.86zM5.41 20L4 18.59l7.72-7.72 1.47 1.35L5.41 20z\"/>\n",
              "  </svg>\n",
              "      </button>\n",
              "      \n",
              "  <style>\n",
              "    .colab-df-container {\n",
              "      display:flex;\n",
              "      flex-wrap:wrap;\n",
              "      gap: 12px;\n",
              "    }\n",
              "\n",
              "    .colab-df-convert {\n",
              "      background-color: #E8F0FE;\n",
              "      border: none;\n",
              "      border-radius: 50%;\n",
              "      cursor: pointer;\n",
              "      display: none;\n",
              "      fill: #1967D2;\n",
              "      height: 32px;\n",
              "      padding: 0 0 0 0;\n",
              "      width: 32px;\n",
              "    }\n",
              "\n",
              "    .colab-df-convert:hover {\n",
              "      background-color: #E2EBFA;\n",
              "      box-shadow: 0px 1px 2px rgba(60, 64, 67, 0.3), 0px 1px 3px 1px rgba(60, 64, 67, 0.15);\n",
              "      fill: #174EA6;\n",
              "    }\n",
              "\n",
              "    [theme=dark] .colab-df-convert {\n",
              "      background-color: #3B4455;\n",
              "      fill: #D2E3FC;\n",
              "    }\n",
              "\n",
              "    [theme=dark] .colab-df-convert:hover {\n",
              "      background-color: #434B5C;\n",
              "      box-shadow: 0px 1px 3px 1px rgba(0, 0, 0, 0.15);\n",
              "      filter: drop-shadow(0px 1px 2px rgba(0, 0, 0, 0.3));\n",
              "      fill: #FFFFFF;\n",
              "    }\n",
              "  </style>\n",
              "\n",
              "      <script>\n",
              "        const buttonEl =\n",
              "          document.querySelector('#df-44573a8a-fb8f-442f-8a08-fd9106c4b97c button.colab-df-convert');\n",
              "        buttonEl.style.display =\n",
              "          google.colab.kernel.accessAllowed ? 'block' : 'none';\n",
              "\n",
              "        async function convertToInteractive(key) {\n",
              "          const element = document.querySelector('#df-44573a8a-fb8f-442f-8a08-fd9106c4b97c');\n",
              "          const dataTable =\n",
              "            await google.colab.kernel.invokeFunction('convertToInteractive',\n",
              "                                                     [key], {});\n",
              "          if (!dataTable) return;\n",
              "\n",
              "          const docLinkHtml = 'Like what you see? Visit the ' +\n",
              "            '<a target=\"_blank\" href=https://colab.research.google.com/notebooks/data_table.ipynb>data table notebook</a>'\n",
              "            + ' to learn more about interactive tables.';\n",
              "          element.innerHTML = '';\n",
              "          dataTable['output_type'] = 'display_data';\n",
              "          await google.colab.output.renderOutput(dataTable, element);\n",
              "          const docLink = document.createElement('div');\n",
              "          docLink.innerHTML = docLinkHtml;\n",
              "          element.appendChild(docLink);\n",
              "        }\n",
              "      </script>\n",
              "    </div>\n",
              "  </div>\n",
              "  "
            ]
          },
          "metadata": {},
          "execution_count": 35
        }
      ]
    },
    {
      "cell_type": "code",
      "source": [
        "# After a quick google search, I learned that both passangers Embarked from Southampton.\n",
        "titanic_df.Embarked = titanic_df.Embarked.fillna(\"S\")"
      ],
      "metadata": {
        "id": "-rwX9TaG3deg"
      },
      "id": "-rwX9TaG3deg",
      "execution_count": null,
      "outputs": []
    },
    {
      "cell_type": "markdown",
      "source": [
        "**Age**"
      ],
      "metadata": {
        "id": "S-uhgOTxhQRw"
      },
      "id": "S-uhgOTxhQRw"
    },
    {
      "cell_type": "markdown",
      "source": [
        "For Age I first tried using the average age in my data set in place of the missing data. I felt there was a more efficient way to do this. I learned that depending on the peron's class, title or sex, the average age might differ. So I then decided to create a column for a person's title to then use that in combination with thier class to get a better estimate of age."
      ],
      "metadata": {
        "id": "TlFjhY-EhT0-"
      },
      "id": "TlFjhY-EhT0-"
    },
    {
      "cell_type": "markdown",
      "source": [
        "Creating Title column using name column"
      ],
      "metadata": {
        "id": "QEQYOc-NIJ8O"
      },
      "id": "QEQYOc-NIJ8O"
    },
    {
      "cell_type": "code",
      "source": [
        "# The Name column consists of the person's last name, followed by their title, and first name. \n",
        "# Using this information I want to create a function that will extract the title.\n",
        "\n",
        "def get_title(input):\n",
        "  title = input.split()[1]\n",
        "  return title\n",
        "\n",
        "#applying function to create Title column\n",
        "titanic_df[\"Title\"] = titanic_df.Name.apply(get_title)\n",
        "test[\"Title\"] = test.Name.apply(get_title)"
      ],
      "metadata": {
        "id": "zstEJDMqa4Xm"
      },
      "id": "zstEJDMqa4Xm",
      "execution_count": null,
      "outputs": []
    },
    {
      "cell_type": "code",
      "source": [
        "# Taking a look at the different Titles.\n",
        "# I can probably generalize this to cut down the number of unique values.\n",
        "titanic_df.Title.unique()"
      ],
      "metadata": {
        "colab": {
          "base_uri": "https://localhost:8080/"
        },
        "id": "K9qOZTMw_ZaM",
        "outputId": "408b7848-b94a-4eac-bb2d-fc7e893feb44"
      },
      "id": "K9qOZTMw_ZaM",
      "execution_count": null,
      "outputs": [
        {
          "output_type": "execute_result",
          "data": {
            "text/plain": [
              "array(['Mr.', 'Mrs.', 'Miss.', 'Master.', 'Planke,', 'Don.', 'Rev.',\n",
              "       'Billiard,', 'der', 'Walle,', 'Dr.', 'Pelsmaeker,', 'Mulder,', 'y',\n",
              "       'Steen,', 'Carlo,', 'Mme.', 'Impe,', 'Ms.', 'Major.', 'Gordon,',\n",
              "       'Messemaeker,', 'Mlle.', 'Col.', 'Capt.', 'Velde,', 'the',\n",
              "       'Shawah,', 'Jonkheer.', 'Melkebeke,', 'Cruyssen,'], dtype=object)"
            ]
          },
          "metadata": {},
          "execution_count": 38
        }
      ]
    },
    {
      "cell_type": "code",
      "source": [
        "# Look at frequency of titles\n",
        "# Mr. Miss. Mrs. Master. the most common\n",
        "titanic_df.Title.value_counts()"
      ],
      "metadata": {
        "colab": {
          "base_uri": "https://localhost:8080/"
        },
        "id": "387LTCIzbtPN",
        "outputId": "46876936-620a-4260-a522-add51970168f"
      },
      "id": "387LTCIzbtPN",
      "execution_count": null,
      "outputs": [
        {
          "output_type": "execute_result",
          "data": {
            "text/plain": [
              "Mr.             502\n",
              "Miss.           179\n",
              "Mrs.            121\n",
              "Master.          40\n",
              "Dr.               7\n",
              "Rev.              6\n",
              "y                 4\n",
              "Planke,           3\n",
              "Impe,             3\n",
              "Gordon,           2\n",
              "Col.              2\n",
              "Mlle.             2\n",
              "Major.            2\n",
              "Melkebeke,        1\n",
              "Jonkheer.         1\n",
              "Shawah,           1\n",
              "the               1\n",
              "Velde,            1\n",
              "Capt.             1\n",
              "Messemaeker,      1\n",
              "Carlo,            1\n",
              "Ms.               1\n",
              "Mme.              1\n",
              "Steen,            1\n",
              "Mulder,           1\n",
              "Pelsmaeker,       1\n",
              "Walle,            1\n",
              "der               1\n",
              "Billiard,         1\n",
              "Don.              1\n",
              "Cruyssen,         1\n",
              "Name: Title, dtype: int64"
            ]
          },
          "metadata": {},
          "execution_count": 39
        }
      ]
    },
    {
      "cell_type": "code",
      "source": [
        "def generalize_title(input):\n",
        "  if input == \"Mrs.\":\n",
        "    return \"Mrs.\"\n",
        "  elif input == \"Mr.\":\n",
        "    return \"Mr.\"\n",
        "  elif input == \"Miss.\" or input == \"Ms.\":\n",
        "    return \"Miss.\"\n",
        "  elif input == \"Master.\":\n",
        "    return \"Master.\"\n",
        "  else:\n",
        "    return \"Other\"\n",
        "\n",
        "titanic_df.Title = titanic_df.Title.apply(generalize_title)\n",
        "test.Title = test.Title.apply(generalize_title)"
      ],
      "metadata": {
        "id": "RhB3aV4uhwfE"
      },
      "id": "RhB3aV4uhwfE",
      "execution_count": null,
      "outputs": []
    },
    {
      "cell_type": "code",
      "source": [
        "titanic_df[titanic_df.Age.isnull()==True].Title.value_counts()"
      ],
      "metadata": {
        "colab": {
          "base_uri": "https://localhost:8080/"
        },
        "id": "vHgwdFFbqPBH",
        "outputId": "5a72a7ef-0087-4ed9-8218-d770b7f175a7"
      },
      "id": "vHgwdFFbqPBH",
      "execution_count": null,
      "outputs": [
        {
          "output_type": "execute_result",
          "data": {
            "text/plain": [
              "Mr.        117\n",
              "Miss.       36\n",
              "Mrs.        17\n",
              "Master.      4\n",
              "Other        3\n",
              "Name: Title, dtype: int64"
            ]
          },
          "metadata": {},
          "execution_count": 41
        }
      ]
    },
    {
      "cell_type": "code",
      "source": [
        "# Just as I thought, the title further impacts the average age.\n",
        "titanic_df.groupby([\"Pclass\",\"Title\"]).Age.median()"
      ],
      "metadata": {
        "colab": {
          "base_uri": "https://localhost:8080/"
        },
        "id": "dlieqpOUd5fw",
        "outputId": "e8b80f49-9414-487c-8cd8-4a1f68103f66"
      },
      "id": "dlieqpOUd5fw",
      "execution_count": null,
      "outputs": [
        {
          "output_type": "execute_result",
          "data": {
            "text/plain": [
              "Pclass  Title  \n",
              "1       Master.     4.0\n",
              "        Miss.      30.0\n",
              "        Mr.        40.0\n",
              "        Mrs.       43.0\n",
              "        Other      44.5\n",
              "2       Master.     1.0\n",
              "        Miss.      24.0\n",
              "        Mr.        31.0\n",
              "        Mrs.       32.0\n",
              "        Other      35.5\n",
              "3       Master.     4.0\n",
              "        Miss.      18.0\n",
              "        Mr.        26.0\n",
              "        Mrs.       31.5\n",
              "        Other      30.0\n",
              "Name: Age, dtype: float64"
            ]
          },
          "metadata": {},
          "execution_count": 42
        }
      ]
    },
    {
      "cell_type": "markdown",
      "source": [
        "*Filling in missing age data*"
      ],
      "metadata": {
        "id": "0z9Wc6lkGnxA"
      },
      "id": "0z9Wc6lkGnxA"
    },
    {
      "cell_type": "code",
      "source": [
        "# I want to fill the empty data in the Age column with the average age based on title and class.\n",
        "# First I want to calculate those averages.\n",
        "\n",
        "#Other & Master\n",
        "# Due to the little data, we will just use the overall average age for those with the title Other and Master respectively.\n",
        "other_avg_age = titanic_df[titanic_df.Title == \"Other\"].Age.mean()\n",
        "master_avg_age = titanic_df[titanic_df.Title == \"Master.\"].Age.mean()\n",
        "\n",
        "#Mr.\n",
        "mr1_avg_age = titanic_df[(titanic_df.Title == \"Mr.\")&(titanic_df.Pclass == 1)].Age.mean()\n",
        "mr2_avg_age = titanic_df[(titanic_df.Title == \"Mr.\")&(titanic_df.Pclass == 2)].Age.mean()\n",
        "mr3_avg_age = titanic_df[(titanic_df.Title == \"Mr.\")&(titanic_df.Pclass == 3)].Age.mean()\n",
        "\n",
        "\n",
        "#Mrs.\n",
        "mrs1_avg_age = titanic_df[(titanic_df.Title == \"Mrs.\")&(titanic_df.Pclass == 1)].Age.mean()\n",
        "mrs2_avg_age = titanic_df[(titanic_df.Title == \"Mrs.\")&(titanic_df.Pclass == 2)].Age.mean()\n",
        "mrs3_avg_age = titanic_df[(titanic_df.Title == \"Mrs.\")&(titanic_df.Pclass == 3)].Age.mean()\n",
        "\n",
        "#Miss.\n",
        "miss1_avg_age = titanic_df[(titanic_df.Title == \"Miss.\")&(titanic_df.Pclass == 1)].Age.mean()\n",
        "miss2_avg_age = titanic_df[(titanic_df.Title == \"Miss.\")&(titanic_df.Pclass == 2)].Age.mean()\n",
        "miss3_avg_age = titanic_df[(titanic_df.Title == \"Miss.\")&(titanic_df.Pclass == 3)].Age.mean()"
      ],
      "metadata": {
        "id": "uMpp8VOgkylp"
      },
      "id": "uMpp8VOgkylp",
      "execution_count": null,
      "outputs": []
    },
    {
      "cell_type": "code",
      "source": [
        "# Filling in missing age Data in titanic_df \n",
        "\n",
        "#Other & Master\n",
        "titanic_df.loc[titanic_df.Title == \"Other\", \"Age\"] = titanic_df.loc[titanic_df.Title == \"Other\", \"Age\"].fillna(other_avg_age)\n",
        "titanic_df.loc[titanic_df.Title == \"Master.\", \"Age\"] = titanic_df.loc[titanic_df.Title == \"Master.\", \"Age\"].fillna(master_avg_age)\n",
        "\n",
        "#Mr.\n",
        "titanic_df.loc[(titanic_df.Title == \"Mr.\")&(titanic_df.Pclass == 1 ), \"Age\"] = titanic_df.loc[(titanic_df.Title == \"Mr.\")&(titanic_df.Pclass == 1 ),\"Age\"].fillna(mr1_avg_age)\n",
        "titanic_df.loc[(titanic_df.Title == \"Mr.\")&(titanic_df.Pclass == 2 ), \"Age\"] = titanic_df.loc[(titanic_df.Title == \"Mr.\")&(titanic_df.Pclass == 2 ),\"Age\"].fillna(mr2_avg_age)\n",
        "titanic_df.loc[(titanic_df.Title == \"Mr.\")&(titanic_df.Pclass == 3 ), \"Age\"] = titanic_df.loc[(titanic_df.Title == \"Mr.\")&(titanic_df.Pclass == 3 ),\"Age\"].fillna(mr3_avg_age)\n",
        "\n",
        "#Mrs.\n",
        "titanic_df.loc[(titanic_df.Title == \"Mrs.\")&(titanic_df.Pclass == 1 ), \"Age\"] = titanic_df.loc[(titanic_df.Title == \"Mrs.\")&(titanic_df.Pclass == 1 ),\"Age\"].fillna(mrs1_avg_age)\n",
        "titanic_df.loc[(titanic_df.Title == \"Mrs.\")&(titanic_df.Pclass == 2 ), \"Age\"] = titanic_df.loc[(titanic_df.Title == \"Mrs.\")&(titanic_df.Pclass == 2 ),\"Age\"].fillna(mrs2_avg_age)\n",
        "titanic_df.loc[(titanic_df.Title == \"Mrs.\")&(titanic_df.Pclass == 3 ), \"Age\"] = titanic_df.loc[(titanic_df.Title == \"Mrs.\")&(titanic_df.Pclass == 3 ),\"Age\"].fillna(mrs3_avg_age)\n",
        "\n",
        "#Miss.\n",
        "titanic_df.loc[(titanic_df.Title == \"Miss.\")&(titanic_df.Pclass == 1 ), \"Age\"] = titanic_df.loc[(titanic_df.Title == \"Miss.\")&(titanic_df.Pclass == 1 ),\"Age\"].fillna(miss1_avg_age)\n",
        "titanic_df.loc[(titanic_df.Title == \"Miss.\")&(titanic_df.Pclass == 2 ), \"Age\"] = titanic_df.loc[(titanic_df.Title == \"Miss.\")&(titanic_df.Pclass == 2 ),\"Age\"].fillna(miss2_avg_age)\n",
        "titanic_df.loc[(titanic_df.Title == \"Miss.\")&(titanic_df.Pclass == 3 ), \"Age\"] = titanic_df.loc[(titanic_df.Title == \"Miss.\")&(titanic_df.Pclass == 3 ),\"Age\"].fillna(miss3_avg_age)"
      ],
      "metadata": {
        "id": "FI4fHe_Epjn7"
      },
      "id": "FI4fHe_Epjn7",
      "execution_count": null,
      "outputs": []
    },
    {
      "cell_type": "code",
      "source": [
        "# Filling in missing age data in testing data\n",
        "\n",
        "#Other & Master\n",
        "test.loc[test.Title == \"Other\", \"Age\"] = test.loc[test.Title == \"Other\", \"Age\"].fillna(other_avg_age)\n",
        "test.loc[test.Title == \"Master.\", \"Age\"] = test.loc[test.Title == \"Master.\", \"Age\"].fillna(master_avg_age)\n",
        "\n",
        "#Mr.\n",
        "test.loc[(test.Title == \"Mr.\")&(test.Pclass == 1 ), \"Age\"] = test.loc[(test.Title == \"Mr.\")&(test.Pclass == 1 ),\"Age\"].fillna(mr1_avg_age)\n",
        "test.loc[(test.Title == \"Mr.\")&(test.Pclass == 2 ), \"Age\"] = test.loc[(test.Title == \"Mr.\")&(test.Pclass == 2 ),\"Age\"].fillna(mr2_avg_age)\n",
        "test.loc[(test.Title == \"Mr.\")&(test.Pclass == 3 ), \"Age\"] = test.loc[(test.Title == \"Mr.\")&(test.Pclass == 3 ),\"Age\"].fillna(mr3_avg_age)\n",
        "\n",
        "#Mrs.\n",
        "test.loc[(test.Title == \"Mrs.\")&(test.Pclass == 1 ), \"Age\"] = test.loc[(test.Title == \"Mrs.\")&(test.Pclass == 1 ),\"Age\"].fillna(mrs1_avg_age)\n",
        "test.loc[(test.Title == \"Mrs.\")&(test.Pclass == 2 ), \"Age\"] = test.loc[(test.Title == \"Mrs.\")&(test.Pclass == 2 ),\"Age\"].fillna(mrs2_avg_age)\n",
        "test.loc[(test.Title == \"Mrs.\")&(test.Pclass == 3 ), \"Age\"] = test.loc[(test.Title == \"Mrs.\")&(test.Pclass == 3 ),\"Age\"].fillna(mrs3_avg_age)\n",
        "\n",
        "#Miss.\n",
        "test.loc[(test.Title == \"Miss.\")&(test.Pclass == 1 ), \"Age\"] = test.loc[(test.Title == \"Miss.\")&(test.Pclass == 1 ),\"Age\"].fillna(miss1_avg_age)\n",
        "test.loc[(test.Title == \"Miss.\")&(test.Pclass == 2 ), \"Age\"] = test.loc[(test.Title == \"Miss.\")&(test.Pclass == 2 ),\"Age\"].fillna(miss2_avg_age)\n",
        "test.loc[(test.Title == \"Miss.\")&(test.Pclass == 3 ), \"Age\"] = test.loc[(test.Title == \"Miss.\")&(test.Pclass == 3 ),\"Age\"].fillna(miss3_avg_age)"
      ],
      "metadata": {
        "id": "_Xxj-k_f0u7m"
      },
      "id": "_Xxj-k_f0u7m",
      "execution_count": null,
      "outputs": []
    },
    {
      "cell_type": "markdown",
      "source": [
        "## Exploring Data"
      ],
      "metadata": {
        "id": "kfnm0uNgOXyO"
      },
      "id": "kfnm0uNgOXyO"
    },
    {
      "cell_type": "code",
      "source": [
        "titanic_df.drop(\"PassengerId\", axis = 1).groupby(\"Survived\").describe().T"
      ],
      "metadata": {
        "colab": {
          "base_uri": "https://localhost:8080/",
          "height": 1000
        },
        "id": "2jCxjWRTPjhK",
        "outputId": "402d7ce2-7766-410e-c2c5-910c39731117"
      },
      "id": "2jCxjWRTPjhK",
      "execution_count": null,
      "outputs": [
        {
          "output_type": "execute_result",
          "data": {
            "text/plain": [
              "Survived               0           1\n",
              "Pclass count  549.000000  342.000000\n",
              "       mean     2.531876    1.950292\n",
              "       std      0.735805    0.863321\n",
              "       min      1.000000    1.000000\n",
              "       25%      2.000000    1.000000\n",
              "       50%      3.000000    2.000000\n",
              "       75%      3.000000    3.000000\n",
              "       max      3.000000    3.000000\n",
              "Age    count  549.000000  342.000000\n",
              "       mean    30.234726   28.140728\n",
              "       std     12.916457   14.444438\n",
              "       min      1.000000    0.420000\n",
              "       25%     22.000000   18.000000\n",
              "       50%     28.646119   28.323059\n",
              "       75%     36.788889   36.591667\n",
              "       max     74.000000   80.000000\n",
              "SibSp  count  549.000000  342.000000\n",
              "       mean     0.553734    0.473684\n",
              "       std      1.288399    0.708688\n",
              "       min      0.000000    0.000000\n",
              "       25%      0.000000    0.000000\n",
              "       50%      0.000000    0.000000\n",
              "       75%      1.000000    1.000000\n",
              "       max      8.000000    4.000000\n",
              "Parch  count  549.000000  342.000000\n",
              "       mean     0.329690    0.464912\n",
              "       std      0.823166    0.771712\n",
              "       min      0.000000    0.000000\n",
              "       25%      0.000000    0.000000\n",
              "       50%      0.000000    0.000000\n",
              "       75%      0.000000    1.000000\n",
              "       max      6.000000    5.000000\n",
              "Fare   count  549.000000  342.000000\n",
              "       mean    22.117887   48.395408\n",
              "       std     31.388207   66.596998\n",
              "       min      0.000000    0.000000\n",
              "       25%      7.854200   12.475000\n",
              "       50%     10.500000   26.000000\n",
              "       75%     26.000000   57.000000\n",
              "       max    263.000000  512.329200"
            ],
            "text/html": [
              "\n",
              "  <div id=\"df-3a627804-80f3-4cac-b182-f0f9ada7a2aa\">\n",
              "    <div class=\"colab-df-container\">\n",
              "      <div>\n",
              "<style scoped>\n",
              "    .dataframe tbody tr th:only-of-type {\n",
              "        vertical-align: middle;\n",
              "    }\n",
              "\n",
              "    .dataframe tbody tr th {\n",
              "        vertical-align: top;\n",
              "    }\n",
              "\n",
              "    .dataframe thead th {\n",
              "        text-align: right;\n",
              "    }\n",
              "</style>\n",
              "<table border=\"1\" class=\"dataframe\">\n",
              "  <thead>\n",
              "    <tr style=\"text-align: right;\">\n",
              "      <th></th>\n",
              "      <th>Survived</th>\n",
              "      <th>0</th>\n",
              "      <th>1</th>\n",
              "    </tr>\n",
              "  </thead>\n",
              "  <tbody>\n",
              "    <tr>\n",
              "      <th rowspan=\"8\" valign=\"top\">Pclass</th>\n",
              "      <th>count</th>\n",
              "      <td>549.000000</td>\n",
              "      <td>342.000000</td>\n",
              "    </tr>\n",
              "    <tr>\n",
              "      <th>mean</th>\n",
              "      <td>2.531876</td>\n",
              "      <td>1.950292</td>\n",
              "    </tr>\n",
              "    <tr>\n",
              "      <th>std</th>\n",
              "      <td>0.735805</td>\n",
              "      <td>0.863321</td>\n",
              "    </tr>\n",
              "    <tr>\n",
              "      <th>min</th>\n",
              "      <td>1.000000</td>\n",
              "      <td>1.000000</td>\n",
              "    </tr>\n",
              "    <tr>\n",
              "      <th>25%</th>\n",
              "      <td>2.000000</td>\n",
              "      <td>1.000000</td>\n",
              "    </tr>\n",
              "    <tr>\n",
              "      <th>50%</th>\n",
              "      <td>3.000000</td>\n",
              "      <td>2.000000</td>\n",
              "    </tr>\n",
              "    <tr>\n",
              "      <th>75%</th>\n",
              "      <td>3.000000</td>\n",
              "      <td>3.000000</td>\n",
              "    </tr>\n",
              "    <tr>\n",
              "      <th>max</th>\n",
              "      <td>3.000000</td>\n",
              "      <td>3.000000</td>\n",
              "    </tr>\n",
              "    <tr>\n",
              "      <th rowspan=\"8\" valign=\"top\">Age</th>\n",
              "      <th>count</th>\n",
              "      <td>549.000000</td>\n",
              "      <td>342.000000</td>\n",
              "    </tr>\n",
              "    <tr>\n",
              "      <th>mean</th>\n",
              "      <td>30.234726</td>\n",
              "      <td>28.140728</td>\n",
              "    </tr>\n",
              "    <tr>\n",
              "      <th>std</th>\n",
              "      <td>12.916457</td>\n",
              "      <td>14.444438</td>\n",
              "    </tr>\n",
              "    <tr>\n",
              "      <th>min</th>\n",
              "      <td>1.000000</td>\n",
              "      <td>0.420000</td>\n",
              "    </tr>\n",
              "    <tr>\n",
              "      <th>25%</th>\n",
              "      <td>22.000000</td>\n",
              "      <td>18.000000</td>\n",
              "    </tr>\n",
              "    <tr>\n",
              "      <th>50%</th>\n",
              "      <td>28.646119</td>\n",
              "      <td>28.323059</td>\n",
              "    </tr>\n",
              "    <tr>\n",
              "      <th>75%</th>\n",
              "      <td>36.788889</td>\n",
              "      <td>36.591667</td>\n",
              "    </tr>\n",
              "    <tr>\n",
              "      <th>max</th>\n",
              "      <td>74.000000</td>\n",
              "      <td>80.000000</td>\n",
              "    </tr>\n",
              "    <tr>\n",
              "      <th rowspan=\"8\" valign=\"top\">SibSp</th>\n",
              "      <th>count</th>\n",
              "      <td>549.000000</td>\n",
              "      <td>342.000000</td>\n",
              "    </tr>\n",
              "    <tr>\n",
              "      <th>mean</th>\n",
              "      <td>0.553734</td>\n",
              "      <td>0.473684</td>\n",
              "    </tr>\n",
              "    <tr>\n",
              "      <th>std</th>\n",
              "      <td>1.288399</td>\n",
              "      <td>0.708688</td>\n",
              "    </tr>\n",
              "    <tr>\n",
              "      <th>min</th>\n",
              "      <td>0.000000</td>\n",
              "      <td>0.000000</td>\n",
              "    </tr>\n",
              "    <tr>\n",
              "      <th>25%</th>\n",
              "      <td>0.000000</td>\n",
              "      <td>0.000000</td>\n",
              "    </tr>\n",
              "    <tr>\n",
              "      <th>50%</th>\n",
              "      <td>0.000000</td>\n",
              "      <td>0.000000</td>\n",
              "    </tr>\n",
              "    <tr>\n",
              "      <th>75%</th>\n",
              "      <td>1.000000</td>\n",
              "      <td>1.000000</td>\n",
              "    </tr>\n",
              "    <tr>\n",
              "      <th>max</th>\n",
              "      <td>8.000000</td>\n",
              "      <td>4.000000</td>\n",
              "    </tr>\n",
              "    <tr>\n",
              "      <th rowspan=\"8\" valign=\"top\">Parch</th>\n",
              "      <th>count</th>\n",
              "      <td>549.000000</td>\n",
              "      <td>342.000000</td>\n",
              "    </tr>\n",
              "    <tr>\n",
              "      <th>mean</th>\n",
              "      <td>0.329690</td>\n",
              "      <td>0.464912</td>\n",
              "    </tr>\n",
              "    <tr>\n",
              "      <th>std</th>\n",
              "      <td>0.823166</td>\n",
              "      <td>0.771712</td>\n",
              "    </tr>\n",
              "    <tr>\n",
              "      <th>min</th>\n",
              "      <td>0.000000</td>\n",
              "      <td>0.000000</td>\n",
              "    </tr>\n",
              "    <tr>\n",
              "      <th>25%</th>\n",
              "      <td>0.000000</td>\n",
              "      <td>0.000000</td>\n",
              "    </tr>\n",
              "    <tr>\n",
              "      <th>50%</th>\n",
              "      <td>0.000000</td>\n",
              "      <td>0.000000</td>\n",
              "    </tr>\n",
              "    <tr>\n",
              "      <th>75%</th>\n",
              "      <td>0.000000</td>\n",
              "      <td>1.000000</td>\n",
              "    </tr>\n",
              "    <tr>\n",
              "      <th>max</th>\n",
              "      <td>6.000000</td>\n",
              "      <td>5.000000</td>\n",
              "    </tr>\n",
              "    <tr>\n",
              "      <th rowspan=\"8\" valign=\"top\">Fare</th>\n",
              "      <th>count</th>\n",
              "      <td>549.000000</td>\n",
              "      <td>342.000000</td>\n",
              "    </tr>\n",
              "    <tr>\n",
              "      <th>mean</th>\n",
              "      <td>22.117887</td>\n",
              "      <td>48.395408</td>\n",
              "    </tr>\n",
              "    <tr>\n",
              "      <th>std</th>\n",
              "      <td>31.388207</td>\n",
              "      <td>66.596998</td>\n",
              "    </tr>\n",
              "    <tr>\n",
              "      <th>min</th>\n",
              "      <td>0.000000</td>\n",
              "      <td>0.000000</td>\n",
              "    </tr>\n",
              "    <tr>\n",
              "      <th>25%</th>\n",
              "      <td>7.854200</td>\n",
              "      <td>12.475000</td>\n",
              "    </tr>\n",
              "    <tr>\n",
              "      <th>50%</th>\n",
              "      <td>10.500000</td>\n",
              "      <td>26.000000</td>\n",
              "    </tr>\n",
              "    <tr>\n",
              "      <th>75%</th>\n",
              "      <td>26.000000</td>\n",
              "      <td>57.000000</td>\n",
              "    </tr>\n",
              "    <tr>\n",
              "      <th>max</th>\n",
              "      <td>263.000000</td>\n",
              "      <td>512.329200</td>\n",
              "    </tr>\n",
              "  </tbody>\n",
              "</table>\n",
              "</div>\n",
              "      <button class=\"colab-df-convert\" onclick=\"convertToInteractive('df-3a627804-80f3-4cac-b182-f0f9ada7a2aa')\"\n",
              "              title=\"Convert this dataframe to an interactive table.\"\n",
              "              style=\"display:none;\">\n",
              "        \n",
              "  <svg xmlns=\"http://www.w3.org/2000/svg\" height=\"24px\"viewBox=\"0 0 24 24\"\n",
              "       width=\"24px\">\n",
              "    <path d=\"M0 0h24v24H0V0z\" fill=\"none\"/>\n",
              "    <path d=\"M18.56 5.44l.94 2.06.94-2.06 2.06-.94-2.06-.94-.94-2.06-.94 2.06-2.06.94zm-11 1L8.5 8.5l.94-2.06 2.06-.94-2.06-.94L8.5 2.5l-.94 2.06-2.06.94zm10 10l.94 2.06.94-2.06 2.06-.94-2.06-.94-.94-2.06-.94 2.06-2.06.94z\"/><path d=\"M17.41 7.96l-1.37-1.37c-.4-.4-.92-.59-1.43-.59-.52 0-1.04.2-1.43.59L10.3 9.45l-7.72 7.72c-.78.78-.78 2.05 0 2.83L4 21.41c.39.39.9.59 1.41.59.51 0 1.02-.2 1.41-.59l7.78-7.78 2.81-2.81c.8-.78.8-2.07 0-2.86zM5.41 20L4 18.59l7.72-7.72 1.47 1.35L5.41 20z\"/>\n",
              "  </svg>\n",
              "      </button>\n",
              "      \n",
              "  <style>\n",
              "    .colab-df-container {\n",
              "      display:flex;\n",
              "      flex-wrap:wrap;\n",
              "      gap: 12px;\n",
              "    }\n",
              "\n",
              "    .colab-df-convert {\n",
              "      background-color: #E8F0FE;\n",
              "      border: none;\n",
              "      border-radius: 50%;\n",
              "      cursor: pointer;\n",
              "      display: none;\n",
              "      fill: #1967D2;\n",
              "      height: 32px;\n",
              "      padding: 0 0 0 0;\n",
              "      width: 32px;\n",
              "    }\n",
              "\n",
              "    .colab-df-convert:hover {\n",
              "      background-color: #E2EBFA;\n",
              "      box-shadow: 0px 1px 2px rgba(60, 64, 67, 0.3), 0px 1px 3px 1px rgba(60, 64, 67, 0.15);\n",
              "      fill: #174EA6;\n",
              "    }\n",
              "\n",
              "    [theme=dark] .colab-df-convert {\n",
              "      background-color: #3B4455;\n",
              "      fill: #D2E3FC;\n",
              "    }\n",
              "\n",
              "    [theme=dark] .colab-df-convert:hover {\n",
              "      background-color: #434B5C;\n",
              "      box-shadow: 0px 1px 3px 1px rgba(0, 0, 0, 0.15);\n",
              "      filter: drop-shadow(0px 1px 2px rgba(0, 0, 0, 0.3));\n",
              "      fill: #FFFFFF;\n",
              "    }\n",
              "  </style>\n",
              "\n",
              "      <script>\n",
              "        const buttonEl =\n",
              "          document.querySelector('#df-3a627804-80f3-4cac-b182-f0f9ada7a2aa button.colab-df-convert');\n",
              "        buttonEl.style.display =\n",
              "          google.colab.kernel.accessAllowed ? 'block' : 'none';\n",
              "\n",
              "        async function convertToInteractive(key) {\n",
              "          const element = document.querySelector('#df-3a627804-80f3-4cac-b182-f0f9ada7a2aa');\n",
              "          const dataTable =\n",
              "            await google.colab.kernel.invokeFunction('convertToInteractive',\n",
              "                                                     [key], {});\n",
              "          if (!dataTable) return;\n",
              "\n",
              "          const docLinkHtml = 'Like what you see? Visit the ' +\n",
              "            '<a target=\"_blank\" href=https://colab.research.google.com/notebooks/data_table.ipynb>data table notebook</a>'\n",
              "            + ' to learn more about interactive tables.';\n",
              "          element.innerHTML = '';\n",
              "          dataTable['output_type'] = 'display_data';\n",
              "          await google.colab.output.renderOutput(dataTable, element);\n",
              "          const docLink = document.createElement('div');\n",
              "          docLink.innerHTML = docLinkHtml;\n",
              "          element.appendChild(docLink);\n",
              "        }\n",
              "      </script>\n",
              "    </div>\n",
              "  </div>\n",
              "  "
            ]
          },
          "metadata": {},
          "execution_count": 46
        }
      ]
    },
    {
      "cell_type": "markdown",
      "source": [
        "### Exploring Age"
      ],
      "metadata": {
        "id": "WvGUOR7_OPCu"
      },
      "id": "WvGUOR7_OPCu"
    },
    {
      "cell_type": "code",
      "source": [
        "titanic_df.groupby(\"Survived\")[\"Age\"].describe()"
      ],
      "metadata": {
        "colab": {
          "base_uri": "https://localhost:8080/",
          "height": 142
        },
        "id": "DDBF8w0xXo3F",
        "outputId": "3f9f07ad-1e29-4154-8b80-de866e27d1a7"
      },
      "id": "DDBF8w0xXo3F",
      "execution_count": null,
      "outputs": [
        {
          "output_type": "execute_result",
          "data": {
            "text/plain": [
              "          count       mean        std   min   25%        50%        75%   max\n",
              "Survived                                                                     \n",
              "0         549.0  30.234726  12.916457  1.00  22.0  28.646119  36.788889  74.0\n",
              "1         342.0  28.140728  14.444438  0.42  18.0  28.323059  36.591667  80.0"
            ],
            "text/html": [
              "\n",
              "  <div id=\"df-161f74ea-c696-449a-8fbd-8f323daf4998\">\n",
              "    <div class=\"colab-df-container\">\n",
              "      <div>\n",
              "<style scoped>\n",
              "    .dataframe tbody tr th:only-of-type {\n",
              "        vertical-align: middle;\n",
              "    }\n",
              "\n",
              "    .dataframe tbody tr th {\n",
              "        vertical-align: top;\n",
              "    }\n",
              "\n",
              "    .dataframe thead th {\n",
              "        text-align: right;\n",
              "    }\n",
              "</style>\n",
              "<table border=\"1\" class=\"dataframe\">\n",
              "  <thead>\n",
              "    <tr style=\"text-align: right;\">\n",
              "      <th></th>\n",
              "      <th>count</th>\n",
              "      <th>mean</th>\n",
              "      <th>std</th>\n",
              "      <th>min</th>\n",
              "      <th>25%</th>\n",
              "      <th>50%</th>\n",
              "      <th>75%</th>\n",
              "      <th>max</th>\n",
              "    </tr>\n",
              "    <tr>\n",
              "      <th>Survived</th>\n",
              "      <th></th>\n",
              "      <th></th>\n",
              "      <th></th>\n",
              "      <th></th>\n",
              "      <th></th>\n",
              "      <th></th>\n",
              "      <th></th>\n",
              "      <th></th>\n",
              "    </tr>\n",
              "  </thead>\n",
              "  <tbody>\n",
              "    <tr>\n",
              "      <th>0</th>\n",
              "      <td>549.0</td>\n",
              "      <td>30.234726</td>\n",
              "      <td>12.916457</td>\n",
              "      <td>1.00</td>\n",
              "      <td>22.0</td>\n",
              "      <td>28.646119</td>\n",
              "      <td>36.788889</td>\n",
              "      <td>74.0</td>\n",
              "    </tr>\n",
              "    <tr>\n",
              "      <th>1</th>\n",
              "      <td>342.0</td>\n",
              "      <td>28.140728</td>\n",
              "      <td>14.444438</td>\n",
              "      <td>0.42</td>\n",
              "      <td>18.0</td>\n",
              "      <td>28.323059</td>\n",
              "      <td>36.591667</td>\n",
              "      <td>80.0</td>\n",
              "    </tr>\n",
              "  </tbody>\n",
              "</table>\n",
              "</div>\n",
              "      <button class=\"colab-df-convert\" onclick=\"convertToInteractive('df-161f74ea-c696-449a-8fbd-8f323daf4998')\"\n",
              "              title=\"Convert this dataframe to an interactive table.\"\n",
              "              style=\"display:none;\">\n",
              "        \n",
              "  <svg xmlns=\"http://www.w3.org/2000/svg\" height=\"24px\"viewBox=\"0 0 24 24\"\n",
              "       width=\"24px\">\n",
              "    <path d=\"M0 0h24v24H0V0z\" fill=\"none\"/>\n",
              "    <path d=\"M18.56 5.44l.94 2.06.94-2.06 2.06-.94-2.06-.94-.94-2.06-.94 2.06-2.06.94zm-11 1L8.5 8.5l.94-2.06 2.06-.94-2.06-.94L8.5 2.5l-.94 2.06-2.06.94zm10 10l.94 2.06.94-2.06 2.06-.94-2.06-.94-.94-2.06-.94 2.06-2.06.94z\"/><path d=\"M17.41 7.96l-1.37-1.37c-.4-.4-.92-.59-1.43-.59-.52 0-1.04.2-1.43.59L10.3 9.45l-7.72 7.72c-.78.78-.78 2.05 0 2.83L4 21.41c.39.39.9.59 1.41.59.51 0 1.02-.2 1.41-.59l7.78-7.78 2.81-2.81c.8-.78.8-2.07 0-2.86zM5.41 20L4 18.59l7.72-7.72 1.47 1.35L5.41 20z\"/>\n",
              "  </svg>\n",
              "      </button>\n",
              "      \n",
              "  <style>\n",
              "    .colab-df-container {\n",
              "      display:flex;\n",
              "      flex-wrap:wrap;\n",
              "      gap: 12px;\n",
              "    }\n",
              "\n",
              "    .colab-df-convert {\n",
              "      background-color: #E8F0FE;\n",
              "      border: none;\n",
              "      border-radius: 50%;\n",
              "      cursor: pointer;\n",
              "      display: none;\n",
              "      fill: #1967D2;\n",
              "      height: 32px;\n",
              "      padding: 0 0 0 0;\n",
              "      width: 32px;\n",
              "    }\n",
              "\n",
              "    .colab-df-convert:hover {\n",
              "      background-color: #E2EBFA;\n",
              "      box-shadow: 0px 1px 2px rgba(60, 64, 67, 0.3), 0px 1px 3px 1px rgba(60, 64, 67, 0.15);\n",
              "      fill: #174EA6;\n",
              "    }\n",
              "\n",
              "    [theme=dark] .colab-df-convert {\n",
              "      background-color: #3B4455;\n",
              "      fill: #D2E3FC;\n",
              "    }\n",
              "\n",
              "    [theme=dark] .colab-df-convert:hover {\n",
              "      background-color: #434B5C;\n",
              "      box-shadow: 0px 1px 3px 1px rgba(0, 0, 0, 0.15);\n",
              "      filter: drop-shadow(0px 1px 2px rgba(0, 0, 0, 0.3));\n",
              "      fill: #FFFFFF;\n",
              "    }\n",
              "  </style>\n",
              "\n",
              "      <script>\n",
              "        const buttonEl =\n",
              "          document.querySelector('#df-161f74ea-c696-449a-8fbd-8f323daf4998 button.colab-df-convert');\n",
              "        buttonEl.style.display =\n",
              "          google.colab.kernel.accessAllowed ? 'block' : 'none';\n",
              "\n",
              "        async function convertToInteractive(key) {\n",
              "          const element = document.querySelector('#df-161f74ea-c696-449a-8fbd-8f323daf4998');\n",
              "          const dataTable =\n",
              "            await google.colab.kernel.invokeFunction('convertToInteractive',\n",
              "                                                     [key], {});\n",
              "          if (!dataTable) return;\n",
              "\n",
              "          const docLinkHtml = 'Like what you see? Visit the ' +\n",
              "            '<a target=\"_blank\" href=https://colab.research.google.com/notebooks/data_table.ipynb>data table notebook</a>'\n",
              "            + ' to learn more about interactive tables.';\n",
              "          element.innerHTML = '';\n",
              "          dataTable['output_type'] = 'display_data';\n",
              "          await google.colab.output.renderOutput(dataTable, element);\n",
              "          const docLink = document.createElement('div');\n",
              "          docLink.innerHTML = docLinkHtml;\n",
              "          element.appendChild(docLink);\n",
              "        }\n",
              "      </script>\n",
              "    </div>\n",
              "  </div>\n",
              "  "
            ]
          },
          "metadata": {},
          "execution_count": 47
        }
      ]
    },
    {
      "cell_type": "code",
      "source": [
        "titanic_df.groupby([\"Survived\",\"Pclass\"])[\"Age\"].describe()"
      ],
      "metadata": {
        "colab": {
          "base_uri": "https://localhost:8080/",
          "height": 266
        },
        "id": "mfBggun9bBlT",
        "outputId": "166ea650-8f87-4fe9-9ecf-c8578267bbb5"
      },
      "id": "mfBggun9bBlT",
      "execution_count": null,
      "outputs": [
        {
          "output_type": "execute_result",
          "data": {
            "text/plain": [
              "                 count       mean        std    min        25%        50%  \\\n",
              "Survived Pclass                                                             \n",
              "0        1        80.0  43.221626  13.692406   2.00  36.591667  41.629412   \n",
              "         2        97.0  33.491791  11.701709  16.00  25.000000  32.000000   \n",
              "         3       372.0  26.592556  10.891851   1.00  20.000000  28.646119   \n",
              "1        1       136.0  35.925850  13.166662   0.92  26.000000  36.000000   \n",
              "         2        87.0  26.026178  14.564334   0.67  18.000000  28.000000   \n",
              "         3       119.0  20.789378  11.061485   0.42  16.093284  20.000000   \n",
              "\n",
              "                       75%   max  \n",
              "Survived Pclass                   \n",
              "0        1       51.250000  71.0  \n",
              "         2       38.000000  70.0  \n",
              "         3       30.000000  74.0  \n",
              "1        1       43.250000  80.0  \n",
              "         2       34.000000  62.0  \n",
              "         3       28.646119  63.0  "
            ],
            "text/html": [
              "\n",
              "  <div id=\"df-8ff28e41-5679-4748-9a97-6c1d7c6b286c\">\n",
              "    <div class=\"colab-df-container\">\n",
              "      <div>\n",
              "<style scoped>\n",
              "    .dataframe tbody tr th:only-of-type {\n",
              "        vertical-align: middle;\n",
              "    }\n",
              "\n",
              "    .dataframe tbody tr th {\n",
              "        vertical-align: top;\n",
              "    }\n",
              "\n",
              "    .dataframe thead th {\n",
              "        text-align: right;\n",
              "    }\n",
              "</style>\n",
              "<table border=\"1\" class=\"dataframe\">\n",
              "  <thead>\n",
              "    <tr style=\"text-align: right;\">\n",
              "      <th></th>\n",
              "      <th></th>\n",
              "      <th>count</th>\n",
              "      <th>mean</th>\n",
              "      <th>std</th>\n",
              "      <th>min</th>\n",
              "      <th>25%</th>\n",
              "      <th>50%</th>\n",
              "      <th>75%</th>\n",
              "      <th>max</th>\n",
              "    </tr>\n",
              "    <tr>\n",
              "      <th>Survived</th>\n",
              "      <th>Pclass</th>\n",
              "      <th></th>\n",
              "      <th></th>\n",
              "      <th></th>\n",
              "      <th></th>\n",
              "      <th></th>\n",
              "      <th></th>\n",
              "      <th></th>\n",
              "      <th></th>\n",
              "    </tr>\n",
              "  </thead>\n",
              "  <tbody>\n",
              "    <tr>\n",
              "      <th rowspan=\"3\" valign=\"top\">0</th>\n",
              "      <th>1</th>\n",
              "      <td>80.0</td>\n",
              "      <td>43.221626</td>\n",
              "      <td>13.692406</td>\n",
              "      <td>2.00</td>\n",
              "      <td>36.591667</td>\n",
              "      <td>41.629412</td>\n",
              "      <td>51.250000</td>\n",
              "      <td>71.0</td>\n",
              "    </tr>\n",
              "    <tr>\n",
              "      <th>2</th>\n",
              "      <td>97.0</td>\n",
              "      <td>33.491791</td>\n",
              "      <td>11.701709</td>\n",
              "      <td>16.00</td>\n",
              "      <td>25.000000</td>\n",
              "      <td>32.000000</td>\n",
              "      <td>38.000000</td>\n",
              "      <td>70.0</td>\n",
              "    </tr>\n",
              "    <tr>\n",
              "      <th>3</th>\n",
              "      <td>372.0</td>\n",
              "      <td>26.592556</td>\n",
              "      <td>10.891851</td>\n",
              "      <td>1.00</td>\n",
              "      <td>20.000000</td>\n",
              "      <td>28.646119</td>\n",
              "      <td>30.000000</td>\n",
              "      <td>74.0</td>\n",
              "    </tr>\n",
              "    <tr>\n",
              "      <th rowspan=\"3\" valign=\"top\">1</th>\n",
              "      <th>1</th>\n",
              "      <td>136.0</td>\n",
              "      <td>35.925850</td>\n",
              "      <td>13.166662</td>\n",
              "      <td>0.92</td>\n",
              "      <td>26.000000</td>\n",
              "      <td>36.000000</td>\n",
              "      <td>43.250000</td>\n",
              "      <td>80.0</td>\n",
              "    </tr>\n",
              "    <tr>\n",
              "      <th>2</th>\n",
              "      <td>87.0</td>\n",
              "      <td>26.026178</td>\n",
              "      <td>14.564334</td>\n",
              "      <td>0.67</td>\n",
              "      <td>18.000000</td>\n",
              "      <td>28.000000</td>\n",
              "      <td>34.000000</td>\n",
              "      <td>62.0</td>\n",
              "    </tr>\n",
              "    <tr>\n",
              "      <th>3</th>\n",
              "      <td>119.0</td>\n",
              "      <td>20.789378</td>\n",
              "      <td>11.061485</td>\n",
              "      <td>0.42</td>\n",
              "      <td>16.093284</td>\n",
              "      <td>20.000000</td>\n",
              "      <td>28.646119</td>\n",
              "      <td>63.0</td>\n",
              "    </tr>\n",
              "  </tbody>\n",
              "</table>\n",
              "</div>\n",
              "      <button class=\"colab-df-convert\" onclick=\"convertToInteractive('df-8ff28e41-5679-4748-9a97-6c1d7c6b286c')\"\n",
              "              title=\"Convert this dataframe to an interactive table.\"\n",
              "              style=\"display:none;\">\n",
              "        \n",
              "  <svg xmlns=\"http://www.w3.org/2000/svg\" height=\"24px\"viewBox=\"0 0 24 24\"\n",
              "       width=\"24px\">\n",
              "    <path d=\"M0 0h24v24H0V0z\" fill=\"none\"/>\n",
              "    <path d=\"M18.56 5.44l.94 2.06.94-2.06 2.06-.94-2.06-.94-.94-2.06-.94 2.06-2.06.94zm-11 1L8.5 8.5l.94-2.06 2.06-.94-2.06-.94L8.5 2.5l-.94 2.06-2.06.94zm10 10l.94 2.06.94-2.06 2.06-.94-2.06-.94-.94-2.06-.94 2.06-2.06.94z\"/><path d=\"M17.41 7.96l-1.37-1.37c-.4-.4-.92-.59-1.43-.59-.52 0-1.04.2-1.43.59L10.3 9.45l-7.72 7.72c-.78.78-.78 2.05 0 2.83L4 21.41c.39.39.9.59 1.41.59.51 0 1.02-.2 1.41-.59l7.78-7.78 2.81-2.81c.8-.78.8-2.07 0-2.86zM5.41 20L4 18.59l7.72-7.72 1.47 1.35L5.41 20z\"/>\n",
              "  </svg>\n",
              "      </button>\n",
              "      \n",
              "  <style>\n",
              "    .colab-df-container {\n",
              "      display:flex;\n",
              "      flex-wrap:wrap;\n",
              "      gap: 12px;\n",
              "    }\n",
              "\n",
              "    .colab-df-convert {\n",
              "      background-color: #E8F0FE;\n",
              "      border: none;\n",
              "      border-radius: 50%;\n",
              "      cursor: pointer;\n",
              "      display: none;\n",
              "      fill: #1967D2;\n",
              "      height: 32px;\n",
              "      padding: 0 0 0 0;\n",
              "      width: 32px;\n",
              "    }\n",
              "\n",
              "    .colab-df-convert:hover {\n",
              "      background-color: #E2EBFA;\n",
              "      box-shadow: 0px 1px 2px rgba(60, 64, 67, 0.3), 0px 1px 3px 1px rgba(60, 64, 67, 0.15);\n",
              "      fill: #174EA6;\n",
              "    }\n",
              "\n",
              "    [theme=dark] .colab-df-convert {\n",
              "      background-color: #3B4455;\n",
              "      fill: #D2E3FC;\n",
              "    }\n",
              "\n",
              "    [theme=dark] .colab-df-convert:hover {\n",
              "      background-color: #434B5C;\n",
              "      box-shadow: 0px 1px 3px 1px rgba(0, 0, 0, 0.15);\n",
              "      filter: drop-shadow(0px 1px 2px rgba(0, 0, 0, 0.3));\n",
              "      fill: #FFFFFF;\n",
              "    }\n",
              "  </style>\n",
              "\n",
              "      <script>\n",
              "        const buttonEl =\n",
              "          document.querySelector('#df-8ff28e41-5679-4748-9a97-6c1d7c6b286c button.colab-df-convert');\n",
              "        buttonEl.style.display =\n",
              "          google.colab.kernel.accessAllowed ? 'block' : 'none';\n",
              "\n",
              "        async function convertToInteractive(key) {\n",
              "          const element = document.querySelector('#df-8ff28e41-5679-4748-9a97-6c1d7c6b286c');\n",
              "          const dataTable =\n",
              "            await google.colab.kernel.invokeFunction('convertToInteractive',\n",
              "                                                     [key], {});\n",
              "          if (!dataTable) return;\n",
              "\n",
              "          const docLinkHtml = 'Like what you see? Visit the ' +\n",
              "            '<a target=\"_blank\" href=https://colab.research.google.com/notebooks/data_table.ipynb>data table notebook</a>'\n",
              "            + ' to learn more about interactive tables.';\n",
              "          element.innerHTML = '';\n",
              "          dataTable['output_type'] = 'display_data';\n",
              "          await google.colab.output.renderOutput(dataTable, element);\n",
              "          const docLink = document.createElement('div');\n",
              "          docLink.innerHTML = docLinkHtml;\n",
              "          element.appendChild(docLink);\n",
              "        }\n",
              "      </script>\n",
              "    </div>\n",
              "  </div>\n",
              "  "
            ]
          },
          "metadata": {},
          "execution_count": 48
        }
      ]
    },
    {
      "cell_type": "markdown",
      "source": [
        "Certain Age intervals might give us more insight. It is said that women and children took priority in rescue. Let's see if this is true. We'lll check for infants and compare this to elderly first."
      ],
      "metadata": {
        "id": "fWRSyriNYywj"
      },
      "id": "fWRSyriNYywj"
    },
    {
      "cell_type": "markdown",
      "source": [
        "- Infants"
      ],
      "metadata": {
        "id": "_cFRsKW3Z4TT"
      },
      "id": "_cFRsKW3Z4TT"
    },
    {
      "cell_type": "code",
      "source": [
        "infant = titanic_df[(titanic_df[\"Age\"] < 2)]\n",
        "plt.scatter(infant.Age, infant.Survived);"
      ],
      "metadata": {
        "colab": {
          "base_uri": "https://localhost:8080/",
          "height": 265
        },
        "id": "dCzFTgEgVZ7i",
        "outputId": "1e3b84ad-f98c-4c51-c222-ae32b64050ab"
      },
      "id": "dCzFTgEgVZ7i",
      "execution_count": null,
      "outputs": [
        {
          "output_type": "display_data",
          "data": {
            "text/plain": [
              "<Figure size 432x288 with 1 Axes>"
            ],
            "image/png": "[encoded data removed]"
          },
          "metadata": {
            "needs_background": "light"
          }
        }
      ]
    },
    {
      "cell_type": "code",
      "source": [
        "infant.groupby(\"Survived\").Age.value_counts()"
      ],
      "metadata": {
        "colab": {
          "base_uri": "https://localhost:8080/"
        },
        "id": "qcFYpFIhZ2vI",
        "outputId": "bf60106e-5dff-4815-8151-3adf92975d95"
      },
      "id": "qcFYpFIhZ2vI",
      "execution_count": null,
      "outputs": [
        {
          "output_type": "execute_result",
          "data": {
            "text/plain": [
              "Survived  Age \n",
              "0         1.00    2\n",
              "1         1.00    5\n",
              "          0.75    2\n",
              "          0.83    2\n",
              "          0.42    1\n",
              "          0.67    1\n",
              "          0.92    1\n",
              "Name: Age, dtype: int64"
            ]
          },
          "metadata": {},
          "execution_count": 50
        }
      ]
    },
    {
      "cell_type": "markdown",
      "source": [
        "- Elderly"
      ],
      "metadata": {
        "id": "d9SzLcbpZ_Lg"
      },
      "id": "d9SzLcbpZ_Lg"
    },
    {
      "cell_type": "code",
      "source": [
        "elderly = titanic_df[ (titanic_df[\"Age\"] > 65)]\n",
        "\n",
        "plt.scatter(elderly.Age, elderly.Survived);"
      ],
      "metadata": {
        "colab": {
          "base_uri": "https://localhost:8080/",
          "height": 265
        },
        "id": "WRP8uR8Xjb5z",
        "outputId": "9fe62cbe-e6fb-4b15-ed4a-40ce0ed0cd3d"
      },
      "id": "WRP8uR8Xjb5z",
      "execution_count": null,
      "outputs": [
        {
          "output_type": "display_data",
          "data": {
            "text/plain": [
              "<Figure size 432x288 with 1 Axes>"
            ],
            "image/png": "[encoded data removed]"
          },
          "metadata": {
            "needs_background": "light"
          }
        }
      ]
    },
    {
      "cell_type": "code",
      "source": [
        "elderly.groupby(\"Survived\").Age.value_counts()"
      ],
      "metadata": {
        "colab": {
          "base_uri": "https://localhost:8080/"
        },
        "id": "Euthnfa6aDD7",
        "outputId": "cf26ff05-b98d-4945-c5a5-5467798c7bd7"
      },
      "id": "Euthnfa6aDD7",
      "execution_count": null,
      "outputs": [
        {
          "output_type": "execute_result",
          "data": {
            "text/plain": [
              "Survived  Age \n",
              "0         70.0    2\n",
              "          71.0    2\n",
              "          66.0    1\n",
              "          70.5    1\n",
              "          74.0    1\n",
              "1         80.0    1\n",
              "Name: Age, dtype: int64"
            ]
          },
          "metadata": {},
          "execution_count": 52
        }
      ]
    },
    {
      "cell_type": "code",
      "source": [
        "# Lets break our age column up into different age categories\n",
        "\n",
        "# First lets create a function to designate a category for different ages\n",
        "def ageLabel(age):\n",
        "  if (age < 2):\n",
        "    return \"infant\"\n",
        "  elif (age >= 2) & (age <  5):\n",
        "    return \"toddler\"\n",
        "  elif (age >= 5) & (age < 13):\n",
        "    return \"child\"\n",
        "  elif (age >=13) & (age < 20):\n",
        "    return \"teen\" \n",
        "  elif (age >= 20) & (age < 40):\n",
        "    return \"adult\"\n",
        "  elif (age >= 40) & (age < 65):\n",
        "    return \"middle age adult\"\n",
        "  elif age>=65:\n",
        "    return \"senior adult\"\n",
        "  else:\n",
        "    return None\n",
        "\n",
        "# apply function \n",
        "titanic_df[\"Age_Category\"] = titanic_df[\"Age\"].apply(ageLabel)\n",
        "test[\"Age_Category\"] = test[\"Age\"].apply(ageLabel)"
      ],
      "metadata": {
        "id": "TPOeDqSkRB6x"
      },
      "id": "TPOeDqSkRB6x",
      "execution_count": null,
      "outputs": []
    },
    {
      "cell_type": "code",
      "source": [
        "titanic_df.groupby(\"Survived\")[\"Age_Category\"].value_counts()"
      ],
      "metadata": {
        "colab": {
          "base_uri": "https://localhost:8080/"
        },
        "id": "p5a1eF3dhxzv",
        "outputId": "76924c84-9dd9-41a7-8135-8b0fd4157651"
      },
      "id": "p5a1eF3dhxzv",
      "execution_count": null,
      "outputs": [
        {
          "output_type": "execute_result",
          "data": {
            "text/plain": [
              "Survived  Age_Category    \n",
              "0         adult               331\n",
              "          middle age adult    107\n",
              "          teen                 70\n",
              "          child                16\n",
              "          toddler              13\n",
              "          senior adult         10\n",
              "          infant                2\n",
              "1         adult               168\n",
              "          middle age adult     73\n",
              "          teen                 58\n",
              "          toddler              17\n",
              "          child                13\n",
              "          infant               12\n",
              "          senior adult          1\n",
              "Name: Age_Category, dtype: int64"
            ]
          },
          "metadata": {},
          "execution_count": 54
        }
      ]
    },
    {
      "cell_type": "markdown",
      "source": [
        "### Exploring Parch and  SibSp"
      ],
      "metadata": {
        "id": "-el_BvyMb4u9"
      },
      "id": "-el_BvyMb4u9"
    },
    {
      "cell_type": "markdown",
      "source": [
        "Did having family onboard have an impact on a person's survival rate?"
      ],
      "metadata": {
        "id": "8eVSjeUdcK7G"
      },
      "id": "8eVSjeUdcK7G"
    },
    {
      "cell_type": "code",
      "source": [
        "titanic_df.groupby([\"Parch\"]).Survived.value_counts()"
      ],
      "metadata": {
        "colab": {
          "base_uri": "https://localhost:8080/"
        },
        "id": "9Y0iBj9Cdu_T",
        "outputId": "e0da7977-0fe4-4903-ae0d-cdc0e274aa81"
      },
      "id": "9Y0iBj9Cdu_T",
      "execution_count": null,
      "outputs": [
        {
          "output_type": "execute_result",
          "data": {
            "text/plain": [
              "Parch  Survived\n",
              "0      0           445\n",
              "       1           233\n",
              "1      1            65\n",
              "       0            53\n",
              "2      0            40\n",
              "       1            40\n",
              "3      1             3\n",
              "       0             2\n",
              "4      0             4\n",
              "5      0             4\n",
              "       1             1\n",
              "6      0             1\n",
              "Name: Survived, dtype: int64"
            ]
          },
          "metadata": {},
          "execution_count": 55
        }
      ]
    },
    {
      "cell_type": "markdown",
      "source": [
        "Here we notice that those whitout Children/Parents had a higher death to survival ratio."
      ],
      "metadata": {
        "id": "ni5F5a9vfojH"
      },
      "id": "ni5F5a9vfojH"
    },
    {
      "cell_type": "code",
      "source": [
        "titanic_df.groupby([\"SibSp\"]).Survived.value_counts()"
      ],
      "metadata": {
        "colab": {
          "base_uri": "https://localhost:8080/"
        },
        "id": "naGfFsQEd6W_",
        "outputId": "246cba1c-dcaa-4874-aaad-6046caf42f11"
      },
      "id": "naGfFsQEd6W_",
      "execution_count": null,
      "outputs": [
        {
          "output_type": "execute_result",
          "data": {
            "text/plain": [
              "SibSp  Survived\n",
              "0      0           398\n",
              "       1           210\n",
              "1      1           112\n",
              "       0            97\n",
              "2      0            15\n",
              "       1            13\n",
              "3      0            12\n",
              "       1             4\n",
              "4      0            15\n",
              "       1             3\n",
              "5      0             5\n",
              "8      0             7\n",
              "Name: Survived, dtype: int64"
            ]
          },
          "metadata": {},
          "execution_count": 56
        }
      ]
    },
    {
      "cell_type": "markdown",
      "source": [
        "Here we notice that those whitout sibblings/spouse had a higher death to survival ratio."
      ],
      "metadata": {
        "id": "f2Px8di1eJJ1"
      },
      "id": "f2Px8di1eJJ1"
    },
    {
      "cell_type": "code",
      "source": [
        "# I want to generalize and turn the column into binary data (has sibbling/spouse and has parents/children)\n",
        "\n",
        "# Create funtion\n",
        "def hasMember(input):\n",
        "  if input == 0:\n",
        "    return 0\n",
        "  if input > 0:\n",
        "    return 1\n",
        "\n",
        "# apply function to columns\n",
        "titanic_df.SibSp = titanic_df.SibSp.apply(hasMember)\n",
        "test.SibSp = test.SibSp.apply(hasMember)\n",
        "\n",
        "titanic_df.Parch = titanic_df.Parch.apply(hasMember)\n",
        "test.Parch = test.Parch.apply(hasMember)"
      ],
      "metadata": {
        "id": "NxKFp32wW11e"
      },
      "id": "NxKFp32wW11e",
      "execution_count": null,
      "outputs": []
    },
    {
      "cell_type": "code",
      "source": [
        "titanic_df.corr().Survived"
      ],
      "metadata": {
        "colab": {
          "base_uri": "https://localhost:8080/"
        },
        "id": "5eNmYNY4Z3SD",
        "outputId": "53db8be1-3f44-47ac-de28-ece2ec040003"
      },
      "id": "5eNmYNY4Z3SD",
      "execution_count": null,
      "outputs": [
        {
          "output_type": "execute_result",
          "data": {
            "text/plain": [
              "PassengerId   -0.005007\n",
              "Survived       1.000000\n",
              "Pclass        -0.338481\n",
              "Age           -0.075177\n",
              "SibSp          0.115867\n",
              "Parch          0.147408\n",
              "Fare           0.257307\n",
              "Name: Survived, dtype: float64"
            ]
          },
          "metadata": {},
          "execution_count": 58
        }
      ]
    },
    {
      "cell_type": "markdown",
      "source": [
        "## Categorical Encoding"
      ],
      "metadata": {
        "id": "qjlaNEKpCb_U"
      },
      "id": "qjlaNEKpCb_U"
    },
    {
      "cell_type": "markdown",
      "source": [
        "#### Ordinal Data"
      ],
      "metadata": {
        "id": "erGRbdFmfLgd"
      },
      "id": "erGRbdFmfLgd"
    },
    {
      "cell_type": "code",
      "source": [
        "# create a dictionary pairs data with an integer.\n",
        "scale_mapper = {\"male\":0, \"female\":1}\n",
        "\n",
        "#replacing data with integers\n",
        "titanic_df[\"Sex\"] = titanic_df[\"Sex\"].replace(scale_mapper)\n",
        "test[\"Sex\"] = test[\"Sex\"].replace(scale_mapper)"
      ],
      "metadata": {
        "id": "Vb7SLa4XUE_1"
      },
      "id": "Vb7SLa4XUE_1",
      "execution_count": null,
      "outputs": []
    },
    {
      "cell_type": "markdown",
      "source": [
        "#### Nonimal Data"
      ],
      "metadata": {
        "id": "oiHtDC8afBqD"
      },
      "id": "oiHtDC8afBqD"
    },
    {
      "cell_type": "code",
      "source": [
        "def encode_and_bind(original_dataframe, feature_to_encode):\n",
        "    dummies = pd.get_dummies(original_dataframe[[feature_to_encode]])\n",
        "    res = pd.concat([original_dataframe, dummies], axis=1)\n",
        "    res = res.drop([feature_to_encode], axis=1)\n",
        "    return(res) "
      ],
      "metadata": {
        "id": "TSkPsqmGbPRn"
      },
      "id": "TSkPsqmGbPRn",
      "execution_count": null,
      "outputs": []
    },
    {
      "cell_type": "markdown",
      "source": [
        "**Embarked**"
      ],
      "metadata": {
        "id": "5h5mWzl-e7Mn"
      },
      "id": "5h5mWzl-e7Mn"
    },
    {
      "cell_type": "code",
      "source": [
        "titanic_df = encode_and_bind(titanic_df, \"Embarked\")\n",
        "test = encode_and_bind(test, \"Embarked\")"
      ],
      "metadata": {
        "id": "p3msjks_I98R"
      },
      "id": "p3msjks_I98R",
      "execution_count": null,
      "outputs": []
    },
    {
      "cell_type": "markdown",
      "source": [
        "**Title**"
      ],
      "metadata": {
        "id": "cRk-1hOQe88w"
      },
      "id": "cRk-1hOQe88w"
    },
    {
      "cell_type": "code",
      "source": [
        "titanic_df = encode_and_bind(titanic_df, \"Title\")\n",
        "test = encode_and_bind(test, \"Title\")"
      ],
      "metadata": {
        "id": "B_-sfdlv5f3D"
      },
      "id": "B_-sfdlv5f3D",
      "execution_count": null,
      "outputs": []
    },
    {
      "cell_type": "markdown",
      "source": [
        "**Age_Category**"
      ],
      "metadata": {
        "id": "ndNc0iVOe-HM"
      },
      "id": "ndNc0iVOe-HM"
    },
    {
      "cell_type": "code",
      "source": [
        "titanic_df = encode_and_bind(titanic_df, \"Age_Category\")\n",
        "test = encode_and_bind(test, \"Age_Category\")"
      ],
      "metadata": {
        "id": "ldED7qz_jTPe"
      },
      "id": "ldED7qz_jTPe",
      "execution_count": null,
      "outputs": []
    },
    {
      "cell_type": "markdown",
      "source": [
        "## Check for collinearity"
      ],
      "metadata": {
        "id": "Vpvu_1wHmn03"
      },
      "id": "Vpvu_1wHmn03"
    },
    {
      "cell_type": "code",
      "source": [
        "sns.heatmap(titanic_df.drop([\"PassengerId\", \"Name\", \"Survived\",\"Ticket\",\"Age\"], axis = 1).corr() > .7)"
      ],
      "metadata": {
        "colab": {
          "base_uri": "https://localhost:8080/",
          "height": 436
        },
        "id": "LF2pqNjqmiZY",
        "outputId": "a9f1ab7e-653e-4996-ae5f-c00afdc64848"
      },
      "id": "LF2pqNjqmiZY",
      "execution_count": null,
      "outputs": [
        {
          "output_type": "execute_result",
          "data": {
            "text/plain": [
              "<matplotlib.axes._subplots.AxesSubplot at 0x7f17681b4590>"
            ]
          },
          "metadata": {},
          "execution_count": 64
        },
        {
          "output_type": "display_data",
          "data": {
            "text/plain": [
              "<Figure size 432x288 with 2 Axes>"
            ],
            "image/png": "[encoded data removed]"
          },
          "metadata": {
            "needs_background": "light"
          }
        }
      ]
    },
    {
      "cell_type": "markdown",
      "id": "7fe95979",
      "metadata": {
        "id": "7fe95979"
      },
      "source": [
        "## Data Processing\n"
      ]
    },
    {
      "cell_type": "code",
      "source": [
        "from sklearn.model_selection import train_test_split\n",
        "\n",
        "X = titanic_df.drop([\"PassengerId\", \"Name\", \"Survived\",\"Ticket\",\"Age\"], axis = 1)\n",
        "y = titanic_df[\"Survived\"]\n",
        "\n",
        "X_train, X_test, y_train, y_test = train_test_split(X, y, test_size=0.2, random_state=36)"
      ],
      "metadata": {
        "id": "kfs8R0x0WQSz"
      },
      "id": "kfs8R0x0WQSz",
      "execution_count": null,
      "outputs": []
    },
    {
      "cell_type": "markdown",
      "id": "a5325a31",
      "metadata": {
        "id": "a5325a31"
      },
      "source": [
        "## ML Models"
      ]
    },
    {
      "cell_type": "markdown",
      "source": [
        "### Logistic Regression Model"
      ],
      "metadata": {
        "id": "qtcXr8BIJBpV"
      },
      "id": "qtcXr8BIJBpV"
    },
    {
      "cell_type": "code",
      "source": [
        "from sklearn.linear_model import LogisticRegression\n",
        "\n",
        "lgr = LogisticRegression()\n",
        "\n",
        "lgr.fit(X_train, y_train)\n",
        "\n",
        "y_pred = lgr.predict(X_test)"
      ],
      "metadata": {
        "colab": {
          "base_uri": "https://localhost:8080/"
        },
        "id": "R-3RtbVcYgIG",
        "outputId": "c04d2338-7cc8-4768-e8ff-c21de2f744f9"
      },
      "id": "R-3RtbVcYgIG",
      "execution_count": null,
      "outputs": [
        {
          "output_type": "stream",
          "name": "stderr",
          "text": [
            "/usr/local/lib/python3.7/dist-packages/sklearn/linear_model/_logistic.py:818: ConvergenceWarning: lbfgs failed to converge (status=1):\n",
            "STOP: TOTAL NO. of ITERATIONS REACHED LIMIT.\n",
            "\n",
            "Increase the number of iterations (max_iter) or scale the data as shown in:\n",
            "    https://scikit-learn.org/stable/modules/preprocessing.html\n",
            "Please also refer to the documentation for alternative solver options:\n",
            "    https://scikit-learn.org/stable/modules/linear_model.html#logistic-regression\n",
            "  extra_warning_msg=_LOGISTIC_SOLVER_CONVERGENCE_MSG,\n"
          ]
        }
      ]
    },
    {
      "cell_type": "markdown",
      "source": [
        "**Model Validation**\n",
        "\n"
      ],
      "metadata": {
        "id": "vZysQdwKkLXN"
      },
      "id": "vZysQdwKkLXN"
    },
    {
      "cell_type": "code",
      "source": [
        "from sklearn.metrics import accuracy_score\n",
        "\n",
        "acc = accuracy_score(y_test, y_pred)\n",
        "acc"
      ],
      "metadata": {
        "id": "U-LUhn_TZA3r",
        "colab": {
          "base_uri": "https://localhost:8080/"
        },
        "outputId": "b9abf68a-d656-472b-d885-c18f1f7a1814"
      },
      "id": "U-LUhn_TZA3r",
      "execution_count": null,
      "outputs": [
        {
          "output_type": "execute_result",
          "data": {
            "text/plain": [
              "0.8435754189944135"
            ]
          },
          "metadata": {},
          "execution_count": 67
        }
      ]
    },
    {
      "cell_type": "markdown",
      "source": [
        "### Random Forest Classifier Model"
      ],
      "metadata": {
        "id": "zptp5TPSJJ8n"
      },
      "id": "zptp5TPSJJ8n"
    },
    {
      "cell_type": "code",
      "source": [
        "from sklearn.ensemble import RandomForestClassifier\n",
        "\n",
        "clf = RandomForestClassifier()\n",
        "clf.fit(X_train, y_train)\n",
        "\n",
        "\n",
        "y_pred = clf.predict(X_test)"
      ],
      "metadata": {
        "id": "8m9dkglIWiEH"
      },
      "id": "8m9dkglIWiEH",
      "execution_count": null,
      "outputs": []
    },
    {
      "cell_type": "markdown",
      "source": [
        "**Model Validation**"
      ],
      "metadata": {
        "id": "FlYdKknnlTvv"
      },
      "id": "FlYdKknnlTvv"
    },
    {
      "cell_type": "code",
      "source": [
        "acc = accuracy_score(y_test, y_pred)\n",
        "acc"
      ],
      "metadata": {
        "id": "geUH4NCfW0jh",
        "colab": {
          "base_uri": "https://localhost:8080/"
        },
        "outputId": "c98cef22-f8ee-43b6-b9e6-e695aa1ffcd7"
      },
      "id": "geUH4NCfW0jh",
      "execution_count": null,
      "outputs": [
        {
          "output_type": "execute_result",
          "data": {
            "text/plain": [
              "0.7597765363128491"
            ]
          },
          "metadata": {},
          "execution_count": 69
        }
      ]
    },
    {
      "cell_type": "markdown",
      "source": [
        "#### Tuning Parameters"
      ],
      "metadata": {
        "id": "EYgx1PSyJPo0"
      },
      "id": "EYgx1PSyJPo0"
    },
    {
      "cell_type": "code",
      "source": [
        "# \n",
        "\n",
        "n_estimators = [5,20,50,100] # number of trees in the random forest\n",
        "max_features = ['auto', 'sqrt'] # number of features in consideration at every split\n",
        "max_depth = [int(x) for x in np.linspace(10, 120, num = 10)] # maximum number of levels allowed in each decision tree\n",
        "min_samples_split = [2, 6, 8, 10] # minimum sample number to split a node\n",
        "min_samples_leaf = [1, 3, 4] # minimum sample number that can be stored in a leaf node\n",
        "bootstrap = [True, False] # method used to sample data points\n",
        "\n",
        "random_grid = {'n_estimators': n_estimators,\n",
        "\n",
        "'max_features': max_features,\n",
        "\n",
        "'max_depth': max_depth,\n",
        "\n",
        "'min_samples_split': min_samples_split,\n",
        "\n",
        "'min_samples_leaf': min_samples_leaf,\n",
        "\n",
        "'bootstrap': bootstrap}"
      ],
      "metadata": {
        "id": "cTl0NaSRXWmL"
      },
      "id": "cTl0NaSRXWmL",
      "execution_count": null,
      "outputs": []
    },
    {
      "cell_type": "code",
      "source": [
        "from sklearn.model_selection import RandomizedSearchCV\n",
        "rf_random = RandomizedSearchCV(estimator = clf,param_distributions = random_grid,\n",
        "               n_iter = 100, cv = 5, verbose=2, random_state=35, n_jobs = -1)"
      ],
      "metadata": {
        "id": "8-Fg-FBaXd9i"
      },
      "id": "8-Fg-FBaXd9i",
      "execution_count": null,
      "outputs": []
    },
    {
      "cell_type": "code",
      "source": [
        "rf_random.fit(X_train, y_train)"
      ],
      "metadata": {
        "id": "0v7RWsEZXn9i",
        "colab": {
          "base_uri": "https://localhost:8080/"
        },
        "outputId": "39f99e14-276b-4720-9bc5-6b6cc08cca03"
      },
      "id": "0v7RWsEZXn9i",
      "execution_count": null,
      "outputs": [
        {
          "output_type": "stream",
          "name": "stdout",
          "text": [
            "Fitting 5 folds for each of 100 candidates, totalling 500 fits\n"
          ]
        },
        {
          "output_type": "execute_result",
          "data": {
            "text/plain": [
              "RandomizedSearchCV(cv=5, estimator=RandomForestClassifier(), n_iter=100,\n",
              "                   n_jobs=-1,\n",
              "                   param_distributions={'bootstrap': [True, False],\n",
              "                                        'max_depth': [10, 22, 34, 46, 58, 71,\n",
              "                                                      83, 95, 107, 120],\n",
              "                                        'max_features': ['auto', 'sqrt'],\n",
              "                                        'min_samples_leaf': [1, 3, 4],\n",
              "                                        'min_samples_split': [2, 6, 8, 10],\n",
              "                                        'n_estimators': [5, 20, 50, 100]},\n",
              "                   random_state=35, verbose=2)"
            ]
          },
          "metadata": {},
          "execution_count": 72
        }
      ]
    },
    {
      "cell_type": "code",
      "source": [
        "print ('Random grid: ', random_grid, '\\n')\n",
        "# print the best parameters\n",
        "print ('Best Parameters: ', rf_random.best_params_, ' \\n')"
      ],
      "metadata": {
        "id": "UnAlbs2nXqQz",
        "colab": {
          "base_uri": "https://localhost:8080/"
        },
        "outputId": "6f43e0f1-cc15-4f37-9412-b343038a751a"
      },
      "id": "UnAlbs2nXqQz",
      "execution_count": null,
      "outputs": [
        {
          "output_type": "stream",
          "name": "stdout",
          "text": [
            "Random grid:  {'n_estimators': [5, 20, 50, 100], 'max_features': ['auto', 'sqrt'], 'max_depth': [10, 22, 34, 46, 58, 71, 83, 95, 107, 120], 'min_samples_split': [2, 6, 8, 10], 'min_samples_leaf': [1, 3, 4], 'bootstrap': [True, False]} \n",
            "\n",
            "Best Parameters:  {'n_estimators': 50, 'min_samples_split': 6, 'min_samples_leaf': 3, 'max_features': 'auto', 'max_depth': 34, 'bootstrap': True}  \n",
            "\n"
          ]
        }
      ]
    },
    {
      "cell_type": "code",
      "source": [
        "#Here I played with the parameters a little more to generate one with the best acuracy score.\n",
        "\n",
        "randmf = RandomForestClassifier(n_estimators = 50, min_samples_split = 10, min_samples_leaf= 4, max_features = 'sqrt', max_depth= 10, bootstrap=False) \n",
        "randmf.fit( X_train, y_train) \n",
        "\n",
        "y_pred = randmf.predict(X_test)\n"
      ],
      "metadata": {
        "id": "V1BbsFfcXtmA"
      },
      "id": "V1BbsFfcXtmA",
      "execution_count": null,
      "outputs": []
    },
    {
      "cell_type": "code",
      "source": [
        "acc = accuracy_score(y_test, y_pred)\n",
        "acc"
      ],
      "metadata": {
        "id": "WadF8vo4YKva",
        "colab": {
          "base_uri": "https://localhost:8080/"
        },
        "outputId": "c1acafcb-7f4f-4ca5-d80e-01b71acbb150"
      },
      "id": "WadF8vo4YKva",
      "execution_count": null,
      "outputs": [
        {
          "output_type": "execute_result",
          "data": {
            "text/plain": [
              "0.8324022346368715"
            ]
          },
          "metadata": {},
          "execution_count": 75
        }
      ]
    },
    {
      "cell_type": "markdown",
      "source": [
        "## Generating Predictions for Test data in order to Submit to Kaggle Compettion"
      ],
      "metadata": {
        "id": "EFISdvsDJlBr"
      },
      "id": "EFISdvsDJlBr"
    },
    {
      "cell_type": "code",
      "source": [
        "#Really quickly check my data. I need to see if all columns are there and if I have missing data.\n",
        "test.isnull().sum()"
      ],
      "metadata": {
        "colab": {
          "base_uri": "https://localhost:8080/"
        },
        "id": "y38i1vfCf3h3",
        "outputId": "b8b0d2a1-0115-44ce-a413-afbce48a8ca4"
      },
      "id": "y38i1vfCf3h3",
      "execution_count": null,
      "outputs": [
        {
          "output_type": "execute_result",
          "data": {
            "text/plain": [
              "PassengerId                      0\n",
              "Pclass                           0\n",
              "Name                             0\n",
              "Sex                              0\n",
              "Age                              0\n",
              "SibSp                            0\n",
              "Parch                            0\n",
              "Ticket                           0\n",
              "Fare                             1\n",
              "Embarked_C                       0\n",
              "Embarked_Q                       0\n",
              "Embarked_S                       0\n",
              "Title_Master.                    0\n",
              "Title_Miss.                      0\n",
              "Title_Mr.                        0\n",
              "Title_Mrs.                       0\n",
              "Title_Other                      0\n",
              "Age_Category_adult               0\n",
              "Age_Category_child               0\n",
              "Age_Category_infant              0\n",
              "Age_Category_middle age adult    0\n",
              "Age_Category_senior adult        0\n",
              "Age_Category_teen                0\n",
              "Age_Category_toddler             0\n",
              "dtype: int64"
            ]
          },
          "metadata": {},
          "execution_count": 76
        }
      ]
    },
    {
      "cell_type": "code",
      "source": [
        "# There was one data point missing for Fare, so I can just use the average of my data set inplace of it.\n",
        "test.Fare.fillna(test.Fare.mean(),inplace=True)"
      ],
      "metadata": {
        "id": "I3hOQ6FAuAOB"
      },
      "id": "I3hOQ6FAuAOB",
      "execution_count": null,
      "outputs": []
    },
    {
      "cell_type": "code",
      "source": [
        "# Generating predicted outcomes using Kaggle test data\n",
        "input = test.drop([\"PassengerId\", \"Name\",\"Ticket\",\"Age\"], axis = 1)\n",
        "\n",
        "output = randmf.predict(input)"
      ],
      "metadata": {
        "id": "sjUyaVlbfd8e"
      },
      "id": "sjUyaVlbfd8e",
      "execution_count": null,
      "outputs": []
    },
    {
      "cell_type": "code",
      "source": [
        "# Create dataframe with PassangerId and predicted outcomes.\n",
        "submission = pd.DataFrame({\"PassengerId\": test.PassengerId, \"Survived\": output})"
      ],
      "metadata": {
        "id": "uOu99jZCvryQ"
      },
      "id": "uOu99jZCvryQ",
      "execution_count": null,
      "outputs": []
    },
    {
      "cell_type": "code",
      "source": [
        "# Genereate CSV to submit to Kaggle\n",
        "submission.to_csv(\"titanic_submission.csv\", index = False)"
      ],
      "metadata": {
        "id": "f2Nas4VEv_mz"
      },
      "id": "f2Nas4VEv_mz",
      "execution_count": null,
      "outputs": []
    }
  ],
  "metadata": {
    "kernelspec": {
      "display_name": "Python 3 (ipykernel)",
      "language": "python",
      "name": "python3"
    },
    "language_info": {
      "codemirror_mode": {
        "name": "ipython",
        "version": 3
      },
      "file_extension": ".py",
      "mimetype": "text/x-python",
      "name": "python",
      "nbconvert_exporter": "python",
      "pygments_lexer": "ipython3",
      "version": "3.9.7"
    },
    "colab": {
      "name": "Kaggle_Titanic_Project.ipynb",
      "provenance": [],
      "collapsed_sections": [
        "7ffcc941",
        "c1bd3c1d",
        "7fe95979",
        "a5325a31",
        "e9c232f0",
        "d6450c6f"
      ],
      "toc_visible": true,
      "include_colab_link": true
    }
  },
  "nbformat": 4,
  "nbformat_minor": 5
}